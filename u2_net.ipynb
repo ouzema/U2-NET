{
  "cells": [
    {
      "cell_type": "markdown",
      "metadata": {
        "id": "d26b6d98-d2a2-4eb0-8a8f-6a928ce1c862"
      },
      "source": [
        "# **SKETCH-AI**\n"
      ]
    },
    {
      "cell_type": "markdown",
      "metadata": {
        "id": "7b91ee7d-a935-4eb6-8786-0752a3c08c45"
      },
      "source": [
        "<center><img src=\"https://cf-courses-data.s3.us.cloud-object-storage.appdomain.cloud/IND-GPXX0JV6EN/images/intro.png\" width=\"60%\"></center>\n"
      ]
    },
    {
      "cell_type": "markdown",
      "metadata": {
        "id": "ac3bb842-ec10-4661-ae7f-0b9f1365d05f"
      },
      "source": [
        "## __Table of Contents__\n",
        "\n",
        "<ol>\n",
        "    <li><a href=\"#Objectives\">Objectives</a></li>\n",
        "    <li>\n",
        "        <a href=\"#Setup\">Setup</a>\n",
        "        <ol>\n",
        "            <li><a href=\"#Installing-Required-Libraries\">Installing Required Libraries</a></li>\n",
        "            <li><a href=\"#Importing-Required-Libraries\">Importing Required Libraries</a></li>\n",
        "            <li><a href=\"#Defining-Helper-Functions\">Defining Helper Functions</a></li>\n",
        "        </ol>\n",
        "    </li>\n",
        "    <li>\n",
        "        <a href=\"#Background\">Background</a>\n",
        "        <ol>\n",
        "            <li><a href=\"#What-does-a-RSU-block-consist-of?\">What does a RSU block consist of?</a></li>\n",
        "        </ol>\n",
        "    </li>\n",
        "    <li>\n",
        "        <a href=\"#Code the RSU Blocks\">Code the RSU Blocks</a>\n",
        "        <ol>\n",
        "            <li><a href=\"#RSU-7\">RSU-7</a></li>\n",
        "            <li><a href=\"#RSU-6\">RSU-6</a></li>\n",
        "            <li><a href=\"#RSU-5\">RSU-5</a></li>\n",
        "            <li><a href=\"#RSU-4\">RSU-4</a></li>\n",
        "            <li><a href=\"#RSU-4F\">RSU-4F</a></li>\n",
        "        </ol>\n",
        "    </li>\n",
        "    <li>\n",
        "        <a href=\"#U2-Net Architecture: Two-level Nested U-structure\">U2-Net Architecture: Two-level Nested U-structure</a>\n",
        "        <ol>\n",
        "            <li><a href=\"#Configure U2-Net\">Configure U2-Net</a></li>\n",
        "        </ol>\n",
        "    </li>\n",
        "    <li>\n",
        "        <a href=\"#Use U2-Net to Draw Human Portrait\">Use U2-Net to Draw Human Portrait</a>\n",
        "        <ol>\n",
        "            <li><a href=\"#Training\">Training</a></li>\n",
        "            <li><a href=\"#Pre-trained U-squared Net\">Pre-trained U-squared Net</a></li>\n",
        "            <li><a href=\"#Creating a Dataloader\">Creating a Dataloader</a></li>\n",
        "            <li><a href=\"#Inference\">Inference</a></li>\n",
        "            <li><a href=\"#Exercise: Generate your own portrait\">Generate my own portrait</a></li>           \n",
        "        </ol>\n",
        "    </li>\n",
        "</ol>\n"
      ]
    },
    {
      "cell_type": "markdown",
      "metadata": {
        "id": "17e300fc-979e-4ed9-9382-0a4e8b5a1382"
      },
      "source": [
        "## Objectives\n",
        "\n",
        " - Understand the use and configuration of Residual U-blocks\n",
        " - Code Residual U-blocks with different depths in PyTorch\n",
        " - Describe the architecture of U2-Net\n",
        " - Construct U2-Net architecture using Residual U-blocks\n",
        " - Produce saliency probability maps of an input image as side outputs of U2-Net\n",
        " - Create PyTorch Dataset object and PyTorch DataLoader\n",
        " - Load the pre-trained weights of a U2-Net for inference\n"
      ]
    },
    {
      "cell_type": "markdown",
      "metadata": {
        "id": "fb648edd-e68d-42cd-b65f-b0797cfc8f25"
      },
      "source": [
        "----\n"
      ]
    },
    {
      "cell_type": "markdown",
      "metadata": {
        "id": "ded3f60f-b777-4e26-97d5-8edb6347c13f"
      },
      "source": [
        "## Setup\n"
      ]
    },
    {
      "cell_type": "markdown",
      "metadata": {
        "id": "fabd1ec7-a96f-4ca6-a8ec-f581cfce2291"
      },
      "source": [
        "For this lab, we will be using the following libraries:\n",
        "\n",
        "*   [`pandas`](https://pandas.pydata.org/?utm_medium=Exinfluencer&utm_source=Exinfluencer&utm_content=000026UJ&utm_term=10006555&utm_id=NA-SkillsNetwork-Channel-SkillsNetworkCoursesIBMML0187ENSkillsNetwork31430127-2021-01-01) for managing the data.\n",
        "*   [`numpy`](https://numpy.org/?utm_medium=Exinfluencer&utm_source=Exinfluencer&utm_content=000026UJ&utm_term=10006555&utm_id=NA-SkillsNetwork-Channel-SkillsNetworkCoursesIBMML0187ENSkillsNetwork31430127-2021-01-01) for mathematical operations.\n",
        "*   [`sklearn`](https://scikit-learn.org/stable/?utm_medium=Exinfluencer&utm_source=Exinfluencer&utm_content=000026UJ&utm_term=10006555&utm_id=NA-SkillsNetwork-Channel-SkillsNetworkCoursesIBMML0187ENSkillsNetwork31430127-2021-01-01) for machine learning and machine-learning-pipeline related functions.\n",
        "*   [`seaborn`](https://seaborn.pydata.org/?utm_medium=Exinfluencer&utm_source=Exinfluencer&utm_content=000026UJ&utm_term=10006555&utm_id=NA-SkillsNetwork-Channel-SkillsNetworkCoursesIBMML0187ENSkillsNetwork31430127-2021-01-01) for visualizing the data.\n",
        "*   [`matplotlib`](https://matplotlib.org/?utm_medium=Exinfluencer&utm_source=Exinfluencer&utm_content=000026UJ&utm_term=10006555&utm_id=NA-SkillsNetwork-Channel-SkillsNetworkCoursesIBMML0187ENSkillsNetwork31430127-2021-01-01) for additional plotting tools.\n"
      ]
    },
    {
      "cell_type": "markdown",
      "metadata": {
        "id": "255c8218-4e8d-446d-a7a2-dcaf50c9f772"
      },
      "source": [
        "### Importing Required Libraries\n"
      ]
    },
    {
      "cell_type": "code",
      "execution_count": 1,
      "metadata": {
        "colab": {
          "base_uri": "https://localhost:8080/"
        },
        "id": "9vq27GOhyfCj",
        "outputId": "b364e4b7-7d18-4a03-e678-5b0986ec8198"
      },
      "outputs": [
        {
          "name": "stdout",
          "output_type": "stream",
          "text": [
            "Requirement already satisfied: skillsnetwork in c:\\users\\ouzem\\anaconda3\\lib\\site-packages (0.20.6)\n",
            "Requirement already satisfied: ipython in c:\\users\\ouzem\\anaconda3\\lib\\site-packages (from skillsnetwork) (8.12.0)\n",
            "Requirement already satisfied: ipywidgets<8,>=7 in c:\\users\\ouzem\\anaconda3\\lib\\site-packages (from skillsnetwork) (7.8.1)\n",
            "Requirement already satisfied: requests<3,>=2 in c:\\users\\ouzem\\anaconda3\\lib\\site-packages (from skillsnetwork) (2.31.0)\n",
            "Requirement already satisfied: tqdm<5,>=4 in c:\\users\\ouzem\\anaconda3\\lib\\site-packages (from skillsnetwork) (4.65.0)\n",
            "Requirement already satisfied: comm>=0.1.3 in c:\\users\\ouzem\\anaconda3\\lib\\site-packages (from ipywidgets<8,>=7->skillsnetwork) (0.2.0)\n",
            "Requirement already satisfied: ipython-genutils~=0.2.0 in c:\\users\\ouzem\\anaconda3\\lib\\site-packages (from ipywidgets<8,>=7->skillsnetwork) (0.2.0)\n",
            "Requirement already satisfied: traitlets>=4.3.1 in c:\\users\\ouzem\\anaconda3\\lib\\site-packages (from ipywidgets<8,>=7->skillsnetwork) (5.7.1)\n",
            "Requirement already satisfied: widgetsnbextension~=3.6.6 in c:\\users\\ouzem\\anaconda3\\lib\\site-packages (from ipywidgets<8,>=7->skillsnetwork) (3.6.6)\n",
            "Requirement already satisfied: jupyterlab-widgets<3,>=1.0.0 in c:\\users\\ouzem\\anaconda3\\lib\\site-packages (from ipywidgets<8,>=7->skillsnetwork) (1.1.7)\n",
            "Requirement already satisfied: backcall in c:\\users\\ouzem\\anaconda3\\lib\\site-packages (from ipython->skillsnetwork) (0.2.0)\n",
            "Requirement already satisfied: decorator in c:\\users\\ouzem\\anaconda3\\lib\\site-packages (from ipython->skillsnetwork) (5.1.1)\n",
            "Requirement already satisfied: jedi>=0.16 in c:\\users\\ouzem\\anaconda3\\lib\\site-packages (from ipython->skillsnetwork) (0.18.1)\n",
            "Requirement already satisfied: matplotlib-inline in c:\\users\\ouzem\\anaconda3\\lib\\site-packages (from ipython->skillsnetwork) (0.1.6)\n",
            "Requirement already satisfied: pickleshare in c:\\users\\ouzem\\anaconda3\\lib\\site-packages (from ipython->skillsnetwork) (0.7.5)\n",
            "Requirement already satisfied: prompt-toolkit!=3.0.37,<3.1.0,>=3.0.30 in c:\\users\\ouzem\\anaconda3\\lib\\site-packages (from ipython->skillsnetwork) (3.0.36)\n",
            "Requirement already satisfied: pygments>=2.4.0 in c:\\users\\ouzem\\anaconda3\\lib\\site-packages (from ipython->skillsnetwork) (2.15.1)\n",
            "Requirement already satisfied: stack-data in c:\\users\\ouzem\\anaconda3\\lib\\site-packages (from ipython->skillsnetwork) (0.2.0)\n",
            "Requirement already satisfied: colorama in c:\\users\\ouzem\\anaconda3\\lib\\site-packages (from ipython->skillsnetwork) (0.4.6)\n",
            "Requirement already satisfied: charset-normalizer<4,>=2 in c:\\users\\ouzem\\anaconda3\\lib\\site-packages (from requests<3,>=2->skillsnetwork) (2.0.4)\n",
            "Requirement already satisfied: idna<4,>=2.5 in c:\\users\\ouzem\\anaconda3\\lib\\site-packages (from requests<3,>=2->skillsnetwork) (3.4)\n",
            "Requirement already satisfied: urllib3<3,>=1.21.1 in c:\\users\\ouzem\\anaconda3\\lib\\site-packages (from requests<3,>=2->skillsnetwork) (1.26.18)\n",
            "Requirement already satisfied: certifi>=2017.4.17 in c:\\users\\ouzem\\anaconda3\\lib\\site-packages (from requests<3,>=2->skillsnetwork) (2023.11.17)\n",
            "Requirement already satisfied: parso<0.9.0,>=0.8.0 in c:\\users\\ouzem\\anaconda3\\lib\\site-packages (from jedi>=0.16->ipython->skillsnetwork) (0.8.3)\n",
            "Requirement already satisfied: wcwidth in c:\\users\\ouzem\\anaconda3\\lib\\site-packages (from prompt-toolkit!=3.0.37,<3.1.0,>=3.0.30->ipython->skillsnetwork) (0.2.5)\n",
            "Requirement already satisfied: notebook>=4.4.1 in c:\\users\\ouzem\\anaconda3\\lib\\site-packages (from widgetsnbextension~=3.6.6->ipywidgets<8,>=7->skillsnetwork) (6.5.4)\n",
            "Requirement already satisfied: executing in c:\\users\\ouzem\\anaconda3\\lib\\site-packages (from stack-data->ipython->skillsnetwork) (0.8.3)\n",
            "Requirement already satisfied: asttokens in c:\\users\\ouzem\\anaconda3\\lib\\site-packages (from stack-data->ipython->skillsnetwork) (2.0.5)\n",
            "Requirement already satisfied: pure-eval in c:\\users\\ouzem\\anaconda3\\lib\\site-packages (from stack-data->ipython->skillsnetwork) (0.2.2)\n",
            "Requirement already satisfied: jinja2 in c:\\users\\ouzem\\anaconda3\\lib\\site-packages (from notebook>=4.4.1->widgetsnbextension~=3.6.6->ipywidgets<8,>=7->skillsnetwork) (3.1.2)\n",
            "Requirement already satisfied: tornado>=6.1 in c:\\users\\ouzem\\anaconda3\\lib\\site-packages (from notebook>=4.4.1->widgetsnbextension~=3.6.6->ipywidgets<8,>=7->skillsnetwork) (6.3.2)\n",
            "Requirement already satisfied: pyzmq>=17 in c:\\users\\ouzem\\anaconda3\\lib\\site-packages (from notebook>=4.4.1->widgetsnbextension~=3.6.6->ipywidgets<8,>=7->skillsnetwork) (23.2.0)\n",
            "Requirement already satisfied: argon2-cffi in c:\\users\\ouzem\\anaconda3\\lib\\site-packages (from notebook>=4.4.1->widgetsnbextension~=3.6.6->ipywidgets<8,>=7->skillsnetwork) (21.3.0)\n",
            "Requirement already satisfied: jupyter-core>=4.6.1 in c:\\users\\ouzem\\anaconda3\\lib\\site-packages (from notebook>=4.4.1->widgetsnbextension~=3.6.6->ipywidgets<8,>=7->skillsnetwork) (5.3.0)\n",
            "Requirement already satisfied: jupyter-client>=5.3.4 in c:\\users\\ouzem\\anaconda3\\lib\\site-packages (from notebook>=4.4.1->widgetsnbextension~=3.6.6->ipywidgets<8,>=7->skillsnetwork) (7.4.9)\n",
            "Requirement already satisfied: nbformat in c:\\users\\ouzem\\anaconda3\\lib\\site-packages (from notebook>=4.4.1->widgetsnbextension~=3.6.6->ipywidgets<8,>=7->skillsnetwork) (5.4.0)\n",
            "Requirement already satisfied: nbconvert>=5 in c:\\users\\ouzem\\anaconda3\\lib\\site-packages (from notebook>=4.4.1->widgetsnbextension~=3.6.6->ipywidgets<8,>=7->skillsnetwork) (6.5.4)\n",
            "Requirement already satisfied: nest-asyncio>=1.5 in c:\\users\\ouzem\\anaconda3\\lib\\site-packages (from notebook>=4.4.1->widgetsnbextension~=3.6.6->ipywidgets<8,>=7->skillsnetwork) (1.5.8)\n",
            "Requirement already satisfied: ipykernel in c:\\users\\ouzem\\anaconda3\\lib\\site-packages (from notebook>=4.4.1->widgetsnbextension~=3.6.6->ipywidgets<8,>=7->skillsnetwork) (6.19.2)\n",
            "Requirement already satisfied: Send2Trash>=1.8.0 in c:\\users\\ouzem\\anaconda3\\lib\\site-packages (from notebook>=4.4.1->widgetsnbextension~=3.6.6->ipywidgets<8,>=7->skillsnetwork) (1.8.0)\n",
            "Requirement already satisfied: terminado>=0.8.3 in c:\\users\\ouzem\\anaconda3\\lib\\site-packages (from notebook>=4.4.1->widgetsnbextension~=3.6.6->ipywidgets<8,>=7->skillsnetwork) (0.17.1)\n",
            "Requirement already satisfied: prometheus-client in c:\\users\\ouzem\\anaconda3\\lib\\site-packages (from notebook>=4.4.1->widgetsnbextension~=3.6.6->ipywidgets<8,>=7->skillsnetwork) (0.14.1)\n",
            "Requirement already satisfied: nbclassic>=0.4.7 in c:\\users\\ouzem\\anaconda3\\lib\\site-packages (from notebook>=4.4.1->widgetsnbextension~=3.6.6->ipywidgets<8,>=7->skillsnetwork) (0.5.5)\n",
            "Requirement already satisfied: six in c:\\users\\ouzem\\anaconda3\\lib\\site-packages (from asttokens->stack-data->ipython->skillsnetwork) (1.16.0)\n",
            "Requirement already satisfied: entrypoints in c:\\users\\ouzem\\anaconda3\\lib\\site-packages (from jupyter-client>=5.3.4->notebook>=4.4.1->widgetsnbextension~=3.6.6->ipywidgets<8,>=7->skillsnetwork) (0.4)\n",
            "Requirement already satisfied: python-dateutil>=2.8.2 in c:\\users\\ouzem\\anaconda3\\lib\\site-packages (from jupyter-client>=5.3.4->notebook>=4.4.1->widgetsnbextension~=3.6.6->ipywidgets<8,>=7->skillsnetwork) (2.8.2)\n",
            "Requirement already satisfied: platformdirs>=2.5 in c:\\users\\ouzem\\anaconda3\\lib\\site-packages (from jupyter-core>=4.6.1->notebook>=4.4.1->widgetsnbextension~=3.6.6->ipywidgets<8,>=7->skillsnetwork) (2.5.2)\n",
            "Requirement already satisfied: pywin32>=300 in c:\\users\\ouzem\\anaconda3\\lib\\site-packages (from jupyter-core>=4.6.1->notebook>=4.4.1->widgetsnbextension~=3.6.6->ipywidgets<8,>=7->skillsnetwork) (305.1)\n",
            "Requirement already satisfied: jupyter-server>=1.8 in c:\\users\\ouzem\\anaconda3\\lib\\site-packages (from nbclassic>=0.4.7->notebook>=4.4.1->widgetsnbextension~=3.6.6->ipywidgets<8,>=7->skillsnetwork) (1.23.4)\n",
            "Requirement already satisfied: notebook-shim>=0.1.0 in c:\\users\\ouzem\\anaconda3\\lib\\site-packages (from nbclassic>=0.4.7->notebook>=4.4.1->widgetsnbextension~=3.6.6->ipywidgets<8,>=7->skillsnetwork) (0.2.2)\n",
            "Requirement already satisfied: lxml in c:\\users\\ouzem\\anaconda3\\lib\\site-packages (from nbconvert>=5->notebook>=4.4.1->widgetsnbextension~=3.6.6->ipywidgets<8,>=7->skillsnetwork) (4.9.2)\n",
            "Requirement already satisfied: beautifulsoup4 in c:\\users\\ouzem\\anaconda3\\lib\\site-packages (from nbconvert>=5->notebook>=4.4.1->widgetsnbextension~=3.6.6->ipywidgets<8,>=7->skillsnetwork) (4.12.2)\n",
            "Requirement already satisfied: bleach in c:\\users\\ouzem\\anaconda3\\lib\\site-packages (from nbconvert>=5->notebook>=4.4.1->widgetsnbextension~=3.6.6->ipywidgets<8,>=7->skillsnetwork) (4.1.0)\n",
            "Requirement already satisfied: defusedxml in c:\\users\\ouzem\\anaconda3\\lib\\site-packages (from nbconvert>=5->notebook>=4.4.1->widgetsnbextension~=3.6.6->ipywidgets<8,>=7->skillsnetwork) (0.7.1)\n",
            "Requirement already satisfied: jupyterlab-pygments in c:\\users\\ouzem\\anaconda3\\lib\\site-packages (from nbconvert>=5->notebook>=4.4.1->widgetsnbextension~=3.6.6->ipywidgets<8,>=7->skillsnetwork) (0.1.2)\n",
            "Requirement already satisfied: MarkupSafe>=2.0 in c:\\users\\ouzem\\anaconda3\\lib\\site-packages (from nbconvert>=5->notebook>=4.4.1->widgetsnbextension~=3.6.6->ipywidgets<8,>=7->skillsnetwork) (2.1.1)\n",
            "Requirement already satisfied: mistune<2,>=0.8.1 in c:\\users\\ouzem\\anaconda3\\lib\\site-packages (from nbconvert>=5->notebook>=4.4.1->widgetsnbextension~=3.6.6->ipywidgets<8,>=7->skillsnetwork) (0.8.4)\n",
            "Requirement already satisfied: nbclient>=0.5.0 in c:\\users\\ouzem\\anaconda3\\lib\\site-packages (from nbconvert>=5->notebook>=4.4.1->widgetsnbextension~=3.6.6->ipywidgets<8,>=7->skillsnetwork) (0.5.13)\n",
            "Requirement already satisfied: packaging in c:\\users\\ouzem\\anaconda3\\lib\\site-packages (from nbconvert>=5->notebook>=4.4.1->widgetsnbextension~=3.6.6->ipywidgets<8,>=7->skillsnetwork) (23.0)\n",
            "Requirement already satisfied: pandocfilters>=1.4.1 in c:\\users\\ouzem\\anaconda3\\lib\\site-packages (from nbconvert>=5->notebook>=4.4.1->widgetsnbextension~=3.6.6->ipywidgets<8,>=7->skillsnetwork) (1.5.0)\n",
            "Requirement already satisfied: tinycss2 in c:\\users\\ouzem\\anaconda3\\lib\\site-packages (from nbconvert>=5->notebook>=4.4.1->widgetsnbextension~=3.6.6->ipywidgets<8,>=7->skillsnetwork) (1.2.1)\n",
            "Requirement already satisfied: jsonschema>=2.6 in c:\\users\\ouzem\\anaconda3\\lib\\site-packages (from nbformat->notebook>=4.4.1->widgetsnbextension~=3.6.6->ipywidgets<8,>=7->skillsnetwork) (4.17.3)\n",
            "Requirement already satisfied: fastjsonschema in c:\\users\\ouzem\\anaconda3\\lib\\site-packages (from nbformat->notebook>=4.4.1->widgetsnbextension~=3.6.6->ipywidgets<8,>=7->skillsnetwork) (2.16.2)\n",
            "Requirement already satisfied: pywinpty>=1.1.0 in c:\\users\\ouzem\\anaconda3\\lib\\site-packages (from terminado>=0.8.3->notebook>=4.4.1->widgetsnbextension~=3.6.6->ipywidgets<8,>=7->skillsnetwork) (2.0.10)\n",
            "Requirement already satisfied: argon2-cffi-bindings in c:\\users\\ouzem\\anaconda3\\lib\\site-packages (from argon2-cffi->notebook>=4.4.1->widgetsnbextension~=3.6.6->ipywidgets<8,>=7->skillsnetwork) (21.2.0)\n",
            "Requirement already satisfied: debugpy>=1.0 in c:\\users\\ouzem\\anaconda3\\lib\\site-packages (from ipykernel->notebook>=4.4.1->widgetsnbextension~=3.6.6->ipywidgets<8,>=7->skillsnetwork) (1.6.7)\n",
            "Requirement already satisfied: psutil in c:\\users\\ouzem\\anaconda3\\lib\\site-packages (from ipykernel->notebook>=4.4.1->widgetsnbextension~=3.6.6->ipywidgets<8,>=7->skillsnetwork) (5.9.0)\n",
            "Requirement already satisfied: attrs>=17.4.0 in c:\\users\\ouzem\\anaconda3\\lib\\site-packages (from jsonschema>=2.6->nbformat->notebook>=4.4.1->widgetsnbextension~=3.6.6->ipywidgets<8,>=7->skillsnetwork) (22.1.0)\n",
            "Requirement already satisfied: pyrsistent!=0.17.0,!=0.17.1,!=0.17.2,>=0.14.0 in c:\\users\\ouzem\\anaconda3\\lib\\site-packages (from jsonschema>=2.6->nbformat->notebook>=4.4.1->widgetsnbextension~=3.6.6->ipywidgets<8,>=7->skillsnetwork) (0.18.0)\n",
            "Requirement already satisfied: anyio<4,>=3.1.0 in c:\\users\\ouzem\\anaconda3\\lib\\site-packages (from jupyter-server>=1.8->nbclassic>=0.4.7->notebook>=4.4.1->widgetsnbextension~=3.6.6->ipywidgets<8,>=7->skillsnetwork) (3.5.0)\n",
            "Requirement already satisfied: websocket-client in c:\\users\\ouzem\\anaconda3\\lib\\site-packages (from jupyter-server>=1.8->nbclassic>=0.4.7->notebook>=4.4.1->widgetsnbextension~=3.6.6->ipywidgets<8,>=7->skillsnetwork) (1.6.4)\n",
            "Requirement already satisfied: cffi>=1.0.1 in c:\\users\\ouzem\\anaconda3\\lib\\site-packages (from argon2-cffi-bindings->argon2-cffi->notebook>=4.4.1->widgetsnbextension~=3.6.6->ipywidgets<8,>=7->skillsnetwork) (1.15.1)\n",
            "Requirement already satisfied: soupsieve>1.2 in c:\\users\\ouzem\\anaconda3\\lib\\site-packages (from beautifulsoup4->nbconvert>=5->notebook>=4.4.1->widgetsnbextension~=3.6.6->ipywidgets<8,>=7->skillsnetwork) (2.4)\n",
            "Requirement already satisfied: webencodings in c:\\users\\ouzem\\anaconda3\\lib\\site-packages (from bleach->nbconvert>=5->notebook>=4.4.1->widgetsnbextension~=3.6.6->ipywidgets<8,>=7->skillsnetwork) (0.5.1)\n",
            "Requirement already satisfied: sniffio>=1.1 in c:\\users\\ouzem\\anaconda3\\lib\\site-packages (from anyio<4,>=3.1.0->jupyter-server>=1.8->nbclassic>=0.4.7->notebook>=4.4.1->widgetsnbextension~=3.6.6->ipywidgets<8,>=7->skillsnetwork) (1.2.0)\n",
            "Requirement already satisfied: pycparser in c:\\users\\ouzem\\anaconda3\\lib\\site-packages (from cffi>=1.0.1->argon2-cffi-bindings->argon2-cffi->notebook>=4.4.1->widgetsnbextension~=3.6.6->ipywidgets<8,>=7->skillsnetwork) (2.21)\n"
          ]
        }
      ],
      "source": [
        "!pip3 install skillsnetwork"
      ]
    },
    {
      "cell_type": "code",
      "execution_count": 2,
      "metadata": {},
      "outputs": [
        {
          "name": "stdout",
          "output_type": "stream",
          "text": [
            "Requirement already satisfied: torchvision in c:\\users\\ouzem\\anaconda3\\lib\\site-packages (0.16.2)\n",
            "Requirement already satisfied: numpy in c:\\users\\ouzem\\anaconda3\\lib\\site-packages (from torchvision) (1.24.3)\n",
            "Requirement already satisfied: requests in c:\\users\\ouzem\\anaconda3\\lib\\site-packages (from torchvision) (2.31.0)\n",
            "Requirement already satisfied: torch==2.1.2 in c:\\users\\ouzem\\anaconda3\\lib\\site-packages (from torchvision) (2.1.2)\n",
            "Requirement already satisfied: pillow!=8.3.*,>=5.3.0 in c:\\users\\ouzem\\anaconda3\\lib\\site-packages (from torchvision) (9.4.0)\n",
            "Requirement already satisfied: filelock in c:\\users\\ouzem\\anaconda3\\lib\\site-packages (from torch==2.1.2->torchvision) (3.9.0)\n",
            "Requirement already satisfied: typing-extensions in c:\\users\\ouzem\\anaconda3\\lib\\site-packages (from torch==2.1.2->torchvision) (4.7.1)\n",
            "Requirement already satisfied: sympy in c:\\users\\ouzem\\anaconda3\\lib\\site-packages (from torch==2.1.2->torchvision) (1.11.1)\n",
            "Requirement already satisfied: networkx in c:\\users\\ouzem\\anaconda3\\lib\\site-packages (from torch==2.1.2->torchvision) (3.1)\n",
            "Requirement already satisfied: jinja2 in c:\\users\\ouzem\\anaconda3\\lib\\site-packages (from torch==2.1.2->torchvision) (3.1.2)\n",
            "Requirement already satisfied: fsspec in c:\\users\\ouzem\\anaconda3\\lib\\site-packages (from torch==2.1.2->torchvision) (2023.10.0)\n",
            "Requirement already satisfied: charset-normalizer<4,>=2 in c:\\users\\ouzem\\anaconda3\\lib\\site-packages (from requests->torchvision) (2.0.4)\n",
            "Requirement already satisfied: idna<4,>=2.5 in c:\\users\\ouzem\\anaconda3\\lib\\site-packages (from requests->torchvision) (3.4)\n",
            "Requirement already satisfied: urllib3<3,>=1.21.1 in c:\\users\\ouzem\\anaconda3\\lib\\site-packages (from requests->torchvision) (1.26.18)\n",
            "Requirement already satisfied: certifi>=2017.4.17 in c:\\users\\ouzem\\anaconda3\\lib\\site-packages (from requests->torchvision) (2023.11.17)\n",
            "Requirement already satisfied: MarkupSafe>=2.0 in c:\\users\\ouzem\\anaconda3\\lib\\site-packages (from jinja2->torch==2.1.2->torchvision) (2.1.1)\n",
            "Requirement already satisfied: mpmath>=0.19 in c:\\users\\ouzem\\anaconda3\\lib\\site-packages (from sympy->torch==2.1.2->torchvision) (1.3.0)\n"
          ]
        }
      ],
      "source": [
        "!pip3 install torchvision"
      ]
    },
    {
      "cell_type": "code",
      "execution_count": 3,
      "metadata": {
        "id": "5ddcd588-0c63-4b92-b857-e7ab1cb7dbcd"
      },
      "outputs": [
        {
          "name": "stdout",
          "output_type": "stream",
          "text": [
            "WARNING:tensorflow:From c:\\Users\\ouzem\\anaconda3\\Lib\\site-packages\\keras\\src\\losses.py:2976: The name tf.losses.sparse_softmax_cross_entropy is deprecated. Please use tf.compat.v1.losses.sparse_softmax_cross_entropy instead.\n",
            "\n",
            "WARNING:tensorflow:From c:\\Users\\ouzem\\anaconda3\\Lib\\site-packages\\keras\\src\\backend.py:873: The name tf.get_default_graph is deprecated. Please use tf.compat.v1.get_default_graph instead.\n",
            "\n"
          ]
        }
      ],
      "source": [
        "def warn(*args, **kwargs):\n",
        "    pass\n",
        "import warnings\n",
        "warnings.warn = warn\n",
        "warnings.filterwarnings('ignore')\n",
        "\n",
        "import skillsnetwork\n",
        "import numpy as np\n",
        "import pandas as pd\n",
        "from PIL import Image\n",
        "\n",
        "import matplotlib.pyplot as plt\n",
        "import seaborn as sns\n",
        "%matplotlib inline\n",
        "\n",
        "import os\n",
        "import numpy as np\n",
        "from skimage import io, transform\n",
        "import torch\n",
        "import torchvision\n",
        "import torch.nn as nn\n",
        "import torch.nn.functional as F\n",
        "from torchvision import transforms, utils\n",
        "from torch.autograd import Variable\n",
        "\n",
        "from torch.utils.data import Dataset, DataLoader\n",
        "\n",
        "\n",
        "\n",
        "sns.set_context('notebook')\n",
        "sns.set_style('white')"
      ]
    },
    {
      "cell_type": "markdown",
      "metadata": {
        "id": "e80ae0dd-81f5-4283-a936-c18e03955c80"
      },
      "source": [
        "### Defining Helper Functions\n"
      ]
    },
    {
      "cell_type": "code",
      "execution_count": 4,
      "metadata": {
        "id": "5d15b829-6e1d-4761-a862-0aaf0e2525f4"
      },
      "outputs": [],
      "source": [
        "def f(modules_dict, x):\n",
        "    inner_enc_layers = []\n",
        "    inner_dec_layers = []\n",
        "\n",
        "    for layer_name, layer in modules_dict.items():\n",
        "        if layer_name[-1] == 'd':\n",
        "            inner_dec_layers.append(layer)\n",
        "        else:\n",
        "            inner_enc_layers.append(layer)\n",
        "\n",
        "    hx = x\n",
        "    if inner_enc_layers: \n",
        "        hxin = inner_enc_layers[0](hx)\n",
        "        hx = hxin\n",
        "    else:\n",
        "        raise ValueError(\"No layers with names ending in 'd' found in modules_dict.\")\n",
        "\n",
        "    inner_enc_outputs = []\n",
        "\n",
        "    # inner block encode\n",
        "    for layer in inner_enc_layers[1:]:\n",
        "        hx = layer(hx)\n",
        "        if not isinstance(layer, torch.nn.modules.pooling.MaxPool2d):\n",
        "            inner_enc_outputs.append(hx)\n",
        "\n",
        "    # inner block decode + residual function\n",
        "    if inner_dec_layers:\n",
        "        hxd = inner_dec_layers[0](torch.cat((inner_enc_outputs.pop(), inner_enc_outputs.pop()), 1))\n",
        "        for layer in inner_dec_layers[1:]:\n",
        "            hxdup = _upsample_like(hxd, inner_enc_outputs[-1])\n",
        "            hxd = layer(torch.cat((hxdup, inner_enc_outputs.pop()), 1))\n",
        "\n",
        "        return hxd + hxin\n",
        "    else:\n",
        "        raise ValueError(\"No layers with names not ending in 'd' found in modules_dict.\")\n"
      ]
    },
    {
      "cell_type": "code",
      "execution_count": 5,
      "metadata": {
        "id": "03b63cd3-71d4-4854-804c-772513c6a461"
      },
      "outputs": [],
      "source": [
        "def normPRED(d):\n",
        "\n",
        "    \"\"\"\n",
        "    This function normalizes a prediction\n",
        "\n",
        "    \"\"\"\n",
        "\n",
        "    ma = torch.max(d)\n",
        "    mi = torch.min(d)\n",
        "\n",
        "    dn = (d-mi)/(ma-mi)\n",
        "\n",
        "    return dn"
      ]
    },
    {
      "cell_type": "markdown",
      "metadata": {
        "id": "654e1c7a-ca6f-4051-8785-73167ff7b033"
      },
      "source": [
        "The following cell defines the `RescaleT` and `ToTensor` class, which will be helpful for tensor data transformation in a later section of this project.\n"
      ]
    },
    {
      "cell_type": "code",
      "execution_count": 6,
      "metadata": {
        "id": "ebdd038a-6218-4258-b136-f3aa6df5909a"
      },
      "outputs": [],
      "source": [
        "class RescaleT(object):\n",
        "    def __init__(self, output_size):\n",
        "        self.output_size = output_size\n",
        "\n",
        "    def __call__(self, sample):\n",
        "        imidx, image = sample['imidx'], sample['image']\n",
        "        img = transform.resize(image, (self.output_size, self.output_size), mode='constant')\n",
        "\n",
        "        return {'imidx':imidx, 'image':img}\n",
        "\n",
        "\n",
        "class ToTensor(object):\n",
        "    def __init__(self, flag=0):\n",
        "        self.flag = flag\n",
        "\n",
        "    def __call__(self, sample):\n",
        "        imidx, image = sample['imidx'], sample['image']\n",
        "        tmpImg = np.zeros((image.shape[0], image.shape[1], 3))\n",
        "        image = image/np.max(image)\n",
        "\n",
        "        tmpImg[:,:,0] = (image[:,:,0]-0.485)/0.229\n",
        "        tmpImg[:,:,1] = (image[:,:,1]-0.456)/0.224\n",
        "        tmpImg[:,:,2] = (image[:,:,2]-0.406)/0.225\n",
        "\n",
        "        tmpImg = tmpImg.transpose((2,0,1))\n",
        "\n",
        "        return {'imidx':torch.from_numpy(imidx), 'image':torch.from_numpy(tmpImg)}"
      ]
    },
    {
      "cell_type": "markdown",
      "metadata": {
        "id": "5104f8a1-1f4a-46a7-871f-12a5a7078b34"
      },
      "source": [
        "## Background\n",
        "\n",
        "Segmenting the most visually attractive objects in a given image has been one of the most well-known tasks in the field of computer vision. It has wide applications in many fields, like **visual tracking** and **image segmentation**. Here is an illustration of image segmentation:\n"
      ]
    },
    {
      "cell_type": "markdown",
      "metadata": {
        "id": "3d8ad86e-4c34-48c0-98c9-4a86ca9966c0"
      },
      "source": [
        "<center><img src=\"https://cf-courses-data.s3.us.cloud-object-storage.appdomain.cloud/IND-GPXX0JV6EN/images/semantic_seg.png\" width=\"65%\"></center>\n"
      ]
    },
    {
      "cell_type": "markdown",
      "metadata": {
        "id": "dc18c890-4287-4846-af8c-b90b720dfb6c"
      },
      "source": [
        "In the ocean of all the deep learning models, there is one name that still remains at the top, which is called U-Net. U-Net was released in 2018 and it has gained huge popularity since then for solving several different tasks related to segmentation. Below is a diagram showing the architecture of U-Net.\n"
      ]
    },
    {
      "cell_type": "markdown",
      "metadata": {
        "id": "9c01b1da-d7fa-48da-b469-41ee989a4b6c"
      },
      "source": [
        "<center><img src=\"https://cf-courses-data.s3.us.cloud-object-storage.appdomain.cloud/IND-GPXX0JV6EN/images/u-net-architecture.png\" width=\"65%\"></center>\n"
      ]
    },
    {
      "cell_type": "markdown",
      "metadata": {
        "id": "9f19ac67-6c74-4604-872c-1b8a24d0b468"
      },
      "source": [
        "The task of detecting the most important or the **main object** in a given image is also called **Salient Object Detection** or **SOD**. With the development of deep Convolutional Neural Networks (CNNs), SOD has been significantly improved.\n"
      ]
    },
    {
      "cell_type": "markdown",
      "metadata": {
        "id": "33708b80-7129-4893-ad57-336a1e13f353"
      },
      "source": [
        "A common pattern in the design of most SOD networks is that they focus on using deep features extracted by existing model architectures, such as VGG, ResNet, DenseNet, etc. However, these architectures were originally designed and trained for image classification, which will not be suitable for SOD tasks that require **local details** and **global contrast information**.\n",
        "\n",
        "We are going to talk about a variant of U-Net called **U-squared Net** or **U2-Net**. It is basically a U-Net made of U-Net or a **two-level nested U-structure**, and was designed specifically for SOD tasks.\n",
        "\n",
        "Before we dive into the applications of U2-Net, let's first look at its key developments:\n",
        "\n",
        "1.  It can capture more contextual information, both locally and globally, from different scales thanks to the mixture of receptive fields of different sizes in the proposed **Residual U-blocks (RSUs)**.\n",
        "\n",
        "2.  It increases the depth of the architecture while maintaining high resolution feature maps at a low memory and computation cost, because of the dilated convolutions and pooling operations in the RSU blocks.\n"
      ]
    },
    {
      "cell_type": "markdown",
      "metadata": {
        "id": "b13dadac-2083-464d-bef2-ab33bef9c040"
      },
      "source": [
        "### What does a RSU block consist of?\n"
      ]
    },
    {
      "cell_type": "markdown",
      "metadata": {
        "id": "9057a610-09d2-40e8-9583-eb00471091ad"
      },
      "source": [
        "- An input convolution layer, which transforms the input feature map $x$ $(H \\times W \\times C_{in})$ to an intermediate map $F1(x)$ with the channel of $C_{out}$. This is a plain convolutional layer for **local feature extraction**.\n",
        "\n",
        "- A U-Net-like symmetric encoder-decoder structure with a height of $L$ that takes the intermediate feature map $F1(x)$ as input and learns to **extract and encode the multi-scale contextual information $U(F1(x))$**. Larger $L$ leads to deeper residual U-block (RSU), more pooling operations, a larger range of receptve fields, and richer local and global features. Configuring $L$ enables the extraction of multi-scale features from input feature maps with arbitrary spatial resolutions. **The multi-scale features are extracted from gradually downsampled feature maps and encoded into high resolution feature maps by progressively upsampling, concatenation and convolution.** This process mitigates the loss of fine details caused by direct upsampling with large scales.\n",
        "\n",
        "- A residual connection that **fuses local features and multi-scale features** by the summation $ F1(x) + U(F1(x))$.\n"
      ]
    },
    {
      "cell_type": "markdown",
      "metadata": {
        "id": "e4c21dfd-61bb-4268-91a6-27d18e258855"
      },
      "source": [
        "The following diagram illustrates the structure of a RSU block with $L=7$, where\n",
        "\n",
        "- Green box represents a _Convolution+BatchNorm+ReLU_ layer;\n",
        "\n",
        "- Blue box represents a **downsampling** _Convolution+BatchNorm+ReLU_ layer;\n",
        "\n",
        "- Pink box represents an **upsampling** _Convolution+BatchNorm+ReLU_ layer.\n"
      ]
    },
    {
      "cell_type": "markdown",
      "metadata": {
        "id": "84025b5c-2f5c-4b6b-8b2e-eb7b7d768773"
      },
      "source": [
        "<center><img src=\"https://cf-courses-data.s3.us.cloud-object-storage.appdomain.cloud/IND-GPXX0JV6EN/images/RSU.png\" width=\"40%\"></center>\n"
      ]
    },
    {
      "cell_type": "markdown",
      "metadata": {
        "id": "73154fcc-fa17-4c8c-9b5e-80f988470d02"
      },
      "source": [
        "## Code the RSU Blocks\n"
      ]
    },
    {
      "cell_type": "markdown",
      "metadata": {
        "id": "686e39ab-cecb-4fea-8758-2e5b15ec6377"
      },
      "source": [
        "A single RSU block consists of many _Convolution+BatchNorm+ReLU_ layers. We can create a class called `REBNCONV` that bundles the Convolution, BatchNorm, and ReLU activation layers together, so that these layers can be added to our RSU block more easily and clearly.\n"
      ]
    },
    {
      "cell_type": "code",
      "execution_count": 7,
      "metadata": {
        "id": "6173603b-3d20-414d-9645-d2f4e6dbe959"
      },
      "outputs": [],
      "source": [
        "class REBNCONV(nn.Module):\n",
        "    def __init__(self, in_ch=3, out_ch=3, dirate=1):\n",
        "        super(REBNCONV, self).__init__()\n",
        "\n",
        "        self.conv_s1 = nn.Conv2d(in_ch,out_ch,3,padding=1*dirate,dilation=1*dirate)\n",
        "        self.bn_s1 = nn.BatchNorm2d(out_ch)\n",
        "        self.relu_s1 = nn.ReLU(inplace=True)\n",
        "\n",
        "\n",
        "    def forward(self, x):\n",
        "        hx = x\n",
        "        return self.relu_s1(self.bn_s1(self.conv_s1(hx)))"
      ]
    },
    {
      "cell_type": "markdown",
      "metadata": {
        "id": "b6c94094-e848-4719-af9a-2d40fdcaf5c7"
      },
      "source": [
        "Next, we define a function `_upsample_like` that upsamples `src` so that `src` has the same shape as `tar`. This will help with our concatenation of different shaped outputs later.\n"
      ]
    },
    {
      "cell_type": "code",
      "execution_count": 8,
      "metadata": {
        "id": "c2697715-53a5-4810-a5ba-ed36061a2a3e"
      },
      "outputs": [],
      "source": [
        "def _upsample_like(src, tar):\n",
        "\n",
        "    src = F.upsample(src, size=tar.shape[2:], mode='bilinear')\n",
        "    return src"
      ]
    },
    {
      "cell_type": "markdown",
      "metadata": {
        "id": "dcae38f7-1a10-4239-903d-66263c5e474a"
      },
      "source": [
        "With these two helpers, let's start creating the RSU blocks!\n",
        "\n",
        "We will create several RSU blocks with different depths. All of them will be necessary for building our U2-Net architecture.\n",
        "\n",
        "<p>For feature maps with large height and width, we need greater $L$ to capture more large scale information.</P>\n",
        "\n",
        "I've simplified the forward functions of all the RSU blocks using the helper function `f`. If you are interested in knowing in detail how the layer outputs are forwarded in the RSU blocks, feel free to look at the code in the **Defining Helper Functions** section.\n"
      ]
    },
    {
      "cell_type": "markdown",
      "metadata": {
        "id": "d978a351-cdf5-44f2-a6da-405296342c0f"
      },
      "source": [
        "### RSU-7\n"
      ]
    },
    {
      "cell_type": "markdown",
      "metadata": {
        "id": "8c29b00b-a503-4c2d-9f9c-de6a10940583"
      },
      "source": [
        "A RSU-7 block has depth $(L)$ of 7. It consists of:\n",
        "\n",
        "- **One** input `REBNCONV` layer;\n",
        "\n",
        "- **Seven** downsamling `REBNCONV` layers, each followed by a `MaxPooling` layer except for `rebnconv6` and `rebnconv7` (to prevent the resolution of the last two layers being too low);\n",
        "\n",
        "- **six** upsampling `REBNCONV` layers, each takes the concatenation of the upsampled feature maps from its previous layer and those from its symmetrical upsamling layer as input.\n"
      ]
    },
    {
      "cell_type": "code",
      "execution_count": 9,
      "metadata": {
        "id": "d7a11838-a019-499a-b6eb-42e15884c30c"
      },
      "outputs": [],
      "source": [
        "class RSU7(nn.Module):\n",
        "\n",
        "    def __init__(self, in_ch=3, mid_ch=12, out_ch=3):\n",
        "        super(RSU7,self).__init__()\n",
        "\n",
        "        self.rebnconvin = REBNCONV(in_ch,out_ch,dirate=1)\n",
        "\n",
        "        self.rebnconv1 = REBNCONV(out_ch,mid_ch,dirate=1)\n",
        "        self.pool1 = nn.MaxPool2d(2,stride=2,ceil_mode=True)\n",
        "\n",
        "        self.rebnconv2 = REBNCONV(mid_ch,mid_ch,dirate=1)\n",
        "        self.pool2 = nn.MaxPool2d(2,stride=2,ceil_mode=True)\n",
        "\n",
        "        self.rebnconv3 = REBNCONV(mid_ch,mid_ch,dirate=1)\n",
        "        self.pool3 = nn.MaxPool2d(2,stride=2,ceil_mode=True)\n",
        "\n",
        "        self.rebnconv4 = REBNCONV(mid_ch,mid_ch,dirate=1)\n",
        "        self.pool4 = nn.MaxPool2d(2,stride=2,ceil_mode=True)\n",
        "\n",
        "        self.rebnconv5 = REBNCONV(mid_ch,mid_ch,dirate=1)\n",
        "        self.pool5 = nn.MaxPool2d(2,stride=2,ceil_mode=True)\n",
        "\n",
        "        self.rebnconv6 = REBNCONV(mid_ch,mid_ch,dirate=1)\n",
        "\n",
        "        self.rebnconv7 = REBNCONV(mid_ch,mid_ch,dirate=2)\n",
        "\n",
        "        self.rebnconv6d = REBNCONV(mid_ch*2,mid_ch,dirate=1)\n",
        "        self.rebnconv5d = REBNCONV(mid_ch*2,mid_ch,dirate=1)\n",
        "        self.rebnconv4d = REBNCONV(mid_ch*2,mid_ch,dirate=1)\n",
        "        self.rebnconv3d = REBNCONV(mid_ch*2,mid_ch,dirate=1)\n",
        "        self.rebnconv2d = REBNCONV(mid_ch*2,mid_ch,dirate=1)\n",
        "        self.rebnconv1d = REBNCONV(mid_ch*2,out_ch,dirate=1)\n",
        "\n",
        "\n",
        "    def forward(self,x):\n",
        "\n",
        "        modules_dict = self.__dict__['_modules']\n",
        "        result = f(modules_dict, x)\n",
        "        return result"
      ]
    },
    {
      "cell_type": "markdown",
      "metadata": {
        "id": "a6c95546-3739-4c71-96dd-4eeebf8e5c0d"
      },
      "source": [
        "### RSU-6\n"
      ]
    },
    {
      "cell_type": "markdown",
      "metadata": {
        "id": "e41f9285-fe8c-4569-86b2-51d14f472f25"
      },
      "source": [
        "A RSU-6 block has depth $(L)$ of 6. It consists of:\n",
        "\n",
        "- **One** input `REBNCONV` layer;\n",
        "\n",
        "- **Six** downsamling `REBNCONV` layers, each followed by a `MaxPooling` layer except for `rebnconv5` and `rebnconv6` (to prevent the resolution of the last two layers being too low);\n",
        "\n",
        "- **Five** upsampling `REBNCONV` layers, each takes the concatenation of the upsampled feature maps from its previous layer and those from its symmetrical upsamling layer as input.\n"
      ]
    },
    {
      "cell_type": "code",
      "execution_count": 10,
      "metadata": {
        "id": "c28abbe1-f27d-461e-beb5-aa0d437216dc"
      },
      "outputs": [],
      "source": [
        "class RSU6(nn.Module):\n",
        "\n",
        "    def __init__(self, in_ch=3, mid_ch=12, out_ch=3):\n",
        "        super(RSU6,self).__init__()\n",
        "\n",
        "        self.rebnconvin = REBNCONV(in_ch,out_ch,dirate=1)\n",
        "\n",
        "        self.rebnconv1 = REBNCONV(out_ch,mid_ch,dirate=1)\n",
        "        self.pool1 = nn.MaxPool2d(2,stride=2,ceil_mode=True)\n",
        "\n",
        "        self.rebnconv2 = REBNCONV(mid_ch,mid_ch,dirate=1)\n",
        "        self.pool2 = nn.MaxPool2d(2,stride=2,ceil_mode=True)\n",
        "\n",
        "        self.rebnconv3 = REBNCONV(mid_ch,mid_ch,dirate=1)\n",
        "        self.pool3 = nn.MaxPool2d(2,stride=2,ceil_mode=True)\n",
        "\n",
        "        self.rebnconv4 = REBNCONV(mid_ch,mid_ch,dirate=1)\n",
        "        self.pool4 = nn.MaxPool2d(2,stride=2,ceil_mode=True)\n",
        "\n",
        "        self.rebnconv5 = REBNCONV(mid_ch,mid_ch,dirate=1)\n",
        "\n",
        "        self.rebnconv6 = REBNCONV(mid_ch,mid_ch,dirate=2)\n",
        "\n",
        "        self.rebnconv5d = REBNCONV(mid_ch*2,mid_ch,dirate=1)\n",
        "        self.rebnconv4d = REBNCONV(mid_ch*2,mid_ch,dirate=1)\n",
        "        self.rebnconv3d = REBNCONV(mid_ch*2,mid_ch,dirate=1)\n",
        "        self.rebnconv2d = REBNCONV(mid_ch*2,mid_ch,dirate=1)\n",
        "        self.rebnconv1d = REBNCONV(mid_ch*2,out_ch,dirate=1)\n",
        "\n",
        "\n",
        "    def forward(self,x):\n",
        "\n",
        "        modules_dict = self.__dict__['_modules']\n",
        "        result = f(modules_dict, x)\n",
        "        return result\n"
      ]
    },
    {
      "cell_type": "markdown",
      "metadata": {
        "id": "332c8f20-a13c-43f0-a5c8-edcc91491965"
      },
      "source": [
        "### RSU-5\n"
      ]
    },
    {
      "cell_type": "markdown",
      "metadata": {
        "id": "550f715f-3aa1-47ab-95ba-4fe922d1570c"
      },
      "source": [
        "A RSU-5 block has depth $(L)$ of 5. It consists of:\n",
        "\n",
        "- **One** input `REBNCONV` layer;\n",
        "\n",
        "- **Five** downsamling `REBNCONV` layers, each followed by a `MaxPooling` layer except for `rebnconv4` and `rebnconv5` (to prevent the resolution of the last two layers being too low);\n",
        "\n",
        "- **Four** upsampling `REBNCONV` layers, each takes the concatenation of the upsampled feature maps from its previous layer and those from its symmetrical upsamling layer as input.\n"
      ]
    },
    {
      "cell_type": "code",
      "execution_count": 11,
      "metadata": {
        "id": "77460a23-7556-491b-8523-ee78e4ca48b8"
      },
      "outputs": [],
      "source": [
        "class RSU5(nn.Module):\n",
        "\n",
        "    def __init__(self, in_ch=3, mid_ch=12, out_ch=3):\n",
        "        super(RSU5,self).__init__()\n",
        "\n",
        "        self.rebnconvin = REBNCONV(in_ch,out_ch,dirate=1)\n",
        "\n",
        "        self.rebnconv1 = REBNCONV(out_ch,mid_ch,dirate=1)\n",
        "        self.pool1 = nn.MaxPool2d(2,stride=2,ceil_mode=True)\n",
        "\n",
        "        self.rebnconv2 = REBNCONV(mid_ch,mid_ch,dirate=1)\n",
        "        self.pool2 = nn.MaxPool2d(2,stride=2,ceil_mode=True)\n",
        "\n",
        "        self.rebnconv3 = REBNCONV(mid_ch,mid_ch,dirate=1)\n",
        "        self.pool3 = nn.MaxPool2d(2,stride=2,ceil_mode=True)\n",
        "\n",
        "        self.rebnconv4 = REBNCONV(mid_ch,mid_ch,dirate=1)\n",
        "\n",
        "        self.rebnconv5 = REBNCONV(mid_ch,mid_ch,dirate=2)\n",
        "\n",
        "        self.rebnconv4d = REBNCONV(mid_ch*2,mid_ch,dirate=1)\n",
        "        self.rebnconv3d = REBNCONV(mid_ch*2,mid_ch,dirate=1)\n",
        "        self.rebnconv2d = REBNCONV(mid_ch*2,mid_ch,dirate=1)\n",
        "        self.rebnconv1d = REBNCONV(mid_ch*2,out_ch,dirate=1)\n",
        "\n",
        "\n",
        "    def forward(self,x):\n",
        "\n",
        "        modules_dict = self.__dict__['_modules']\n",
        "        result = f(modules_dict, x)\n",
        "        return result"
      ]
    },
    {
      "cell_type": "markdown",
      "metadata": {
        "id": "5b5c1f6e-e4b2-48f2-87ac-93f7072eabd1"
      },
      "source": [
        "### RSU-4\n"
      ]
    },
    {
      "cell_type": "markdown",
      "metadata": {
        "id": "06431b64-89cc-489d-b093-bfef6dfe4b37"
      },
      "source": [
        "A RSU-4 block has depth $(L)$ of 4. It consists of:\n",
        "\n",
        "- **One** input `REBNCONV` layer;\n",
        "\n",
        "- **Four** downsamling `REBNCONV` layers, each followed by a `MaxPooling` layer except for `rebnconv3` and `rebnconv4` (to prevent the resolution of the last two layers being too low);\n",
        "\n",
        "- **Three** upsampling `REBNCONV` layers, each takes the concatenation of the upsampled feature maps from its previous layer and those from its symmetrical upsamling layer as input.\n"
      ]
    },
    {
      "cell_type": "code",
      "execution_count": 12,
      "metadata": {
        "id": "80466bfa-207f-4846-b0cb-99cc4d6bbb87"
      },
      "outputs": [],
      "source": [
        "class RSU4(nn.Module):\n",
        "\n",
        "    def __init__(self, in_ch=3, mid_ch=12, out_ch=3):\n",
        "        super(RSU4,self).__init__()\n",
        "\n",
        "        # your code here\n",
        "        self.rebnconvin = REBNCONV(in_ch,out_ch,dirate=1)\n",
        "\n",
        "        self.rebnconv1 = REBNCONV(out_ch,mid_ch,dirate=1)\n",
        "        self.pool1 = nn.MaxPool2d(2,stride=2,ceil_mode=True)\n",
        "\n",
        "        self.rebnconv2 = REBNCONV(mid_ch,mid_ch,dirate=1)\n",
        "        self.pool2 = nn.MaxPool2d(2,stride=2,ceil_mode=True)\n",
        "\n",
        "        self.rebnconv3 = REBNCONV(mid_ch,mid_ch,dirate=1)\n",
        "\n",
        "        self.rebnconv4 = REBNCONV(mid_ch,mid_ch,dirate=2)\n",
        "\n",
        "        self.rebnconv3d = REBNCONV(mid_ch*2,mid_ch,dirate=1)\n",
        "        self.rebnconv2d = REBNCONV(mid_ch*2,mid_ch,dirate=1)\n",
        "        self.rebnconv1d = REBNCONV(mid_ch*2,out_ch,dirate=1)\n",
        "\n",
        "\n",
        "    def forward(self,x):\n",
        "\n",
        "        modules_dict = self.__dict__['_modules']\n",
        "        result = f(modules_dict, x)\n",
        "        return result\n"
      ]
    },
    {
      "cell_type": "markdown",
      "metadata": {
        "id": "a27c910e-baba-410a-93d4-d9a15c384d99"
      },
      "source": [
        "### RSU-4F\n"
      ]
    },
    {
      "cell_type": "markdown",
      "metadata": {
        "id": "15a23a92-6024-431a-af64-47b9befb738d"
      },
      "source": [
        "The RSU-4F block is slightly different from other RSU-L blocks. **\"F\"** means that the RSU is a dilated version, where we replace the pooling the upsampling operations with dilated convolutions. This means all of intermediate feature maps of RSU-4F have the same resolution with its input feature maps.\n",
        "\n",
        "A RSU-4F has depth $(L)$ of 4. It consists of:\n",
        "\n",
        "- **One** input `REBNCONV` layer;\n",
        "\n",
        "- **Four** dilated `REBNCONV` layers, each produces output of the same shape as the input.\n",
        "\n",
        "- **Three** dilated `REBNCONV` layers, each takes the concatenation of the feature maps from its previous layer and those from its symmetrical layer as input.\n"
      ]
    },
    {
      "cell_type": "code",
      "execution_count": 13,
      "metadata": {
        "id": "35766f5f-c656-4499-9798-ae7b5f574c50"
      },
      "outputs": [],
      "source": [
        "class RSU4F(nn.Module):\n",
        "\n",
        "    def __init__(self, in_ch=3, mid_ch=12, out_ch=3):\n",
        "        super(RSU4F,self).__init__()\n",
        "\n",
        "        self.rebnconvin = REBNCONV(in_ch,out_ch,dirate=1)\n",
        "\n",
        "        self.rebnconv1 = REBNCONV(out_ch,mid_ch,dirate=1)\n",
        "        self.rebnconv2 = REBNCONV(mid_ch,mid_ch,dirate=2)\n",
        "        self.rebnconv3 = REBNCONV(mid_ch,mid_ch,dirate=4)\n",
        "\n",
        "        self.rebnconv4 = REBNCONV(mid_ch,mid_ch,dirate=8)\n",
        "\n",
        "        self.rebnconv3d = REBNCONV(mid_ch*2,mid_ch,dirate=4)\n",
        "        self.rebnconv2d = REBNCONV(mid_ch*2,mid_ch,dirate=2)\n",
        "        self.rebnconv1d = REBNCONV(mid_ch*2,out_ch,dirate=1)\n",
        "\n",
        "\n",
        "    def forward(self,x):\n",
        "\n",
        "        modules_dict = self.__dict__['_modules']\n",
        "        result = f(modules_dict, x)\n",
        "        return result"
      ]
    },
    {
      "cell_type": "markdown",
      "metadata": {
        "id": "a424c308-a2ed-4bb1-99d4-862b62cf5c25"
      },
      "source": [
        "We have finished creating all the RSU blocks that are required for the complete U2-Net architecture!\n",
        "\n",
        "We can print out the `named_parameters` of a RSU block to see the parameters associated with each of the layers we included in the block.\n"
      ]
    },
    {
      "cell_type": "code",
      "execution_count": 14,
      "metadata": {
        "colab": {
          "base_uri": "https://localhost:8080/"
        },
        "id": "4bcb6701-41cd-44af-8a9b-79a531198f89",
        "outputId": "5b3961fe-75ac-4e2b-f56b-74a297836463"
      },
      "outputs": [
        {
          "name": "stdout",
          "output_type": "stream",
          "text": [
            "rebnconvin.conv_s1.weight\n",
            "rebnconvin.conv_s1.bias\n",
            "rebnconvin.bn_s1.weight\n",
            "rebnconvin.bn_s1.bias\n",
            "rebnconv1.conv_s1.weight\n",
            "rebnconv1.conv_s1.bias\n",
            "rebnconv1.bn_s1.weight\n",
            "rebnconv1.bn_s1.bias\n",
            "rebnconv2.conv_s1.weight\n",
            "rebnconv2.conv_s1.bias\n",
            "rebnconv2.bn_s1.weight\n",
            "rebnconv2.bn_s1.bias\n",
            "rebnconv3.conv_s1.weight\n",
            "rebnconv3.conv_s1.bias\n",
            "rebnconv3.bn_s1.weight\n",
            "rebnconv3.bn_s1.bias\n",
            "rebnconv4.conv_s1.weight\n",
            "rebnconv4.conv_s1.bias\n",
            "rebnconv4.bn_s1.weight\n",
            "rebnconv4.bn_s1.bias\n",
            "rebnconv3d.conv_s1.weight\n",
            "rebnconv3d.conv_s1.bias\n",
            "rebnconv3d.bn_s1.weight\n",
            "rebnconv3d.bn_s1.bias\n",
            "rebnconv2d.conv_s1.weight\n",
            "rebnconv2d.conv_s1.bias\n",
            "rebnconv2d.bn_s1.weight\n",
            "rebnconv2d.bn_s1.bias\n",
            "rebnconv1d.conv_s1.weight\n",
            "rebnconv1d.conv_s1.bias\n",
            "rebnconv1d.bn_s1.weight\n",
            "rebnconv1d.bn_s1.bias\n"
          ]
        }
      ],
      "source": [
        "for name, param in RSU4F().named_parameters():\n",
        "    print(name)"
      ]
    },
    {
      "cell_type": "markdown",
      "metadata": {
        "id": "a1d4314e-8536-4ea6-94c4-60d3a4cf79bc"
      },
      "source": [
        "We can see that the parameters are associated with the Convolution and the BatchNorm layer of `REBNCONV`.\n"
      ]
    },
    {
      "cell_type": "markdown",
      "metadata": {
        "id": "6ba4e53b-6164-4394-a133-e5a5f37dbde2"
      },
      "source": [
        "## U2-Net Architecture: Two-level Nested U-structure\n"
      ]
    },
    {
      "cell_type": "markdown",
      "metadata": {
        "id": "e03bdaec-4830-4ed7-9c2f-3ce1cda2d6fa"
      },
      "source": [
        "The U2-Net is a **two-level nested U-structure**. As shown in the figure below, its top level is a big U-structure consists of 11 stages where each stage is a RSU block (bottom level U-structure). Thus, the nested U-structure enables the **extraction of intra-stage multi-scale features** and **aggregation of inner-stage multi-level features**.\n"
      ]
    },
    {
      "cell_type": "markdown",
      "metadata": {
        "id": "a78d9ae4-0e0e-4499-a67f-cb12b104dc89"
      },
      "source": [
        "<center><img src=\"https://cf-courses-data.s3.us.cloud-object-storage.appdomain.cloud/IND-GPXX0JV6EN/images/U2Net.png\" width=\"70%\"></center>\n"
      ]
    },
    {
      "cell_type": "markdown",
      "metadata": {
        "id": "adb19d64-214f-4dfd-82a0-a2ea1247f7b0"
      },
      "source": [
        "### Configure U2-Net\n"
      ]
    },
    {
      "cell_type": "markdown",
      "metadata": {
        "id": "e9103de3-c7c8-40c8-82d5-49055b87f2dc"
      },
      "source": [
        "Using all the RSU-L blocks and the RSU-4F block we created previously, let's configure the U2-Net. In a nutshell, the U2-Net mainly consists of three parts:\n",
        "\n",
        "- **a six stages encoder** composed of RSU-7, RSU-6, RSU-5, RSU-4, RSU-4F, and RSU-4F;\n",
        "\n",
        "- **a five stages decoder** composed of RSU-4F, RSU-4, RSU-5, RSU-6, and RSU-7;  \n",
        "\n",
        "- **a saliency map fusion module** attached with the decoder stages and the last encoder stage for generating side output saliency probability maps; they will be fused to produce the final saliency probability map.\n",
        "\n",
        "<p>Each decoder stage takes the concatenation of the decoded feature maps from its previous stage and those from its symmetrical encoder stage as the input.</p>\n"
      ]
    },
    {
      "cell_type": "code",
      "execution_count": 15,
      "metadata": {
        "id": "7e7bd230-735f-4749-ae05-3f151c5a8ef3"
      },
      "outputs": [],
      "source": [
        "class U2NET(nn.Module):\n",
        "\n",
        "    def __init__(self,in_ch=3,out_ch=1):\n",
        "        super(U2NET,self).__init__()\n",
        "\n",
        "        # encoder\n",
        "        self.stage1 = RSU7(in_ch,32,64)\n",
        "        self.pool12 = nn.MaxPool2d(2,stride=2,ceil_mode=True)\n",
        "\n",
        "        self.stage2 = RSU6(64,32,128)\n",
        "        self.pool23 = nn.MaxPool2d(2,stride=2,ceil_mode=True)\n",
        "\n",
        "        self.stage3 = RSU5(128,64,256)\n",
        "        self.pool34 = nn.MaxPool2d(2,stride=2,ceil_mode=True)\n",
        "\n",
        "        self.stage4 = RSU4(256,128,512)\n",
        "        self.pool45 = nn.MaxPool2d(2,stride=2,ceil_mode=True)\n",
        "\n",
        "        self.stage5 = RSU4F(512,256,512)\n",
        "        self.pool56 = nn.MaxPool2d(2,stride=2,ceil_mode=True)\n",
        "\n",
        "        self.stage6 = RSU4F(512,256,512)\n",
        "\n",
        "        # decoder\n",
        "        self.stage5d = RSU4F(1024,256,512)\n",
        "        self.stage4d = RSU4(1024,128,256)\n",
        "        self.stage3d = RSU5(512,64,128)\n",
        "        self.stage2d = RSU6(256,32,64)\n",
        "        self.stage1d = RSU7(128,16,64)\n",
        "\n",
        "        #side\n",
        "        self.side1 = nn.Conv2d(64,out_ch,3,padding=1)\n",
        "        self.side2 = nn.Conv2d(64,out_ch,3,padding=1)\n",
        "        self.side3 = nn.Conv2d(128,out_ch,3,padding=1)\n",
        "        self.side4 = nn.Conv2d(256,out_ch,3,padding=1)\n",
        "        self.side5 = nn.Conv2d(512,out_ch,3,padding=1)\n",
        "        self.side6 = nn.Conv2d(512,out_ch,3,padding=1)\n",
        "\n",
        "        self.outconv = nn.Conv2d(6*out_ch,out_ch,1)\n",
        "\n",
        "\n",
        "    def forward(self,x):\n",
        "\n",
        "        hx = x\n",
        "\n",
        "        #stage 1\n",
        "        hx1 = self.stage1(hx)\n",
        "        hx = self.pool12(hx1)\n",
        "\n",
        "        #stage 2\n",
        "        hx2 = self.stage2(hx)\n",
        "        hx = self.pool23(hx2)\n",
        "\n",
        "        #stage 3\n",
        "        hx3 = self.stage3(hx)\n",
        "        hx = self.pool34(hx3)\n",
        "\n",
        "        #stage 4\n",
        "        hx4 = self.stage4(hx)\n",
        "        hx = self.pool45(hx4)\n",
        "\n",
        "        #stage 5\n",
        "        hx5 = self.stage5(hx)\n",
        "        hx = self.pool56(hx5)\n",
        "\n",
        "        #stage 6\n",
        "        hx6 = self.stage6(hx)\n",
        "        hx6up = _upsample_like(hx6,hx5)\n",
        "\n",
        "        #-------------------- decoder --------------------\n",
        "        hx5d = self.stage5d(torch.cat((hx6up,hx5),1))\n",
        "        hx5dup = _upsample_like(hx5d,hx4)\n",
        "\n",
        "        hx4d = self.stage4d(torch.cat((hx5dup,hx4),1))\n",
        "        hx4dup = _upsample_like(hx4d,hx3)\n",
        "\n",
        "        hx3d = self.stage3d(torch.cat((hx4dup,hx3),1))\n",
        "        hx3dup = _upsample_like(hx3d,hx2)\n",
        "\n",
        "        hx2d = self.stage2d(torch.cat((hx3dup,hx2),1))\n",
        "        hx2dup = _upsample_like(hx2d,hx1)\n",
        "\n",
        "        hx1d = self.stage1d(torch.cat((hx2dup,hx1),1))\n",
        "\n",
        "\n",
        "        #side output\n",
        "        d1 = self.side1(hx1d)\n",
        "\n",
        "        d2 = self.side2(hx2d)\n",
        "        d2 = _upsample_like(d2,d1)\n",
        "\n",
        "        d3 = self.side3(hx3d)\n",
        "        d3 = _upsample_like(d3,d1)\n",
        "\n",
        "        d4 = self.side4(hx4d)\n",
        "        d4 = _upsample_like(d4,d1)\n",
        "\n",
        "        d5 = self.side5(hx5d)\n",
        "        d5 = _upsample_like(d5,d1)\n",
        "\n",
        "        d6 = self.side6(hx6)\n",
        "        d6 = _upsample_like(d6,d1)\n",
        "\n",
        "        d0 = self.outconv(torch.cat((d1,d2,d3,d4,d5,d6),1))\n",
        "\n",
        "        return F.sigmoid(d0) #, F.sigmoid(d1), F.sigmoid(d2), F.sigmoid(d3), F.sigmoid(d4), F.sigmoid(d5), F.sigmoid(d6)\n"
      ]
    },
    {
      "cell_type": "markdown",
      "metadata": {
        "id": "31a77d2b-98de-461f-b5f9-4c8050ef6654"
      },
      "source": [
        "The forward function of U2-Net returns the final saliency probability map $sigmoid(d_0)$ that's generated using the side outputs $d_1,d_2, d_3, d_4, d_5, d_6$. Depending on the application of U2-Net, the final saliency probability map can be used differently to produce the final product desired.\n"
      ]
    },
    {
      "cell_type": "markdown",
      "metadata": {
        "id": "fd7e7544-ba16-4a6e-ada5-657d6ad8a597"
      },
      "source": [
        "## Use U2-Net to Draw Human Portrait\n"
      ]
    },
    {
      "cell_type": "markdown",
      "metadata": {
        "id": "7d3dd740-a6a1-4abc-84f6-6aa5307b6211"
      },
      "source": [
        "One of the interesting applications of U2-Net is human portrait generation. In this section, we will import the pre-trained weights of the U2-Net and load them into our model architecture.\n",
        "\n"
      ]
    },
    {
      "cell_type": "markdown",
      "metadata": {
        "id": "73c27a34-c115-49ba-895d-375f574688e0"
      },
      "source": [
        "### Pre-trained U-squared Net\n"
      ]
    },
    {
      "cell_type": "markdown",
      "metadata": {
        "id": "7a78b31b-5f13-4585-b344-381e336d2123"
      },
      "source": [
        "We create a U2-Net model using our defined class `U2NET`and call it `net`.\n"
      ]
    },
    {
      "cell_type": "code",
      "execution_count": 16,
      "metadata": {
        "id": "9b925577-3df5-4217-812b-b465c1734f86"
      },
      "outputs": [],
      "source": [
        "net = U2NET(3, 1)"
      ]
    },
    {
      "cell_type": "markdown",
      "metadata": {
        "id": "720aa05a-d421-4401-b914-8cd81a05547d"
      },
      "source": [
        "Downloading the model weights and load them into `net`:\n"
      ]
    },
    {
      "cell_type": "code",
      "execution_count": 17,
      "metadata": {
        "colab": {
          "base_uri": "https://localhost:8080/",
          "height": 99,
          "referenced_widgets": [
            "7e507e8a29574fc4af8f5b343d1bca11",
            "ef8e0d25886e48cf87d9434533d57fee",
            "917e3aa1dea84766aeb0def76de21a19",
            "99a62cb77fc3433a9ac68881a4c5e82a",
            "c4eb198fefba40838e83af3f4851c42e",
            "26b3b9a338c449c99115a5f819bef083",
            "01e65e71f5464600b9fdc9526e1ab5b4",
            "b2f48b5dffb54b90a78d683d7ecf6fdc",
            "d19f89cfb4f041acbd75643af770c51e",
            "d4de144017e34e2e82356814ceb7f6b2",
            "24bc3beaa3bb47c5a6d6739a32cd2d5e",
            "53efdd342b58401eadc76ac3470bf224",
            "5242bfe13fa54be78bf3273cceb331fe",
            "23c085ccb2fb4fc7810f5cc20ddfb8df",
            "2093518fb1e347da9259936307ee5c3c",
            "671606cadfd94275a2cbb3107377c251",
            "639bb0c8fb7a4770923238439e110c53",
            "0d602320f56a42818b9ccd51ab6880f8",
            "13538b62daf24820926f7abd77e077a9",
            "033ec08281f84f20b6e896c7530896ec",
            "80e5a5a2bf6e4b7d9d0620584df9693a",
            "1ec87665958c41cd8fe966d85da36541"
          ]
        },
        "id": "1422303c-acb2-4acf-a6a7-5759e12cd8e7",
        "outputId": "0c4adc53-2beb-4521-89e7-1599b2d26555"
      },
      "outputs": [
        {
          "data": {
            "application/vnd.jupyter.widget-view+json": {
              "model_id": "0cbaaf7fd3324724a8414a33163f56bb",
              "version_major": 2,
              "version_minor": 0
            },
            "text/plain": [
              "Downloading u2net.tgz:   0%|          | 0/163399348 [00:00<?, ?it/s]"
            ]
          },
          "metadata": {},
          "output_type": "display_data"
        },
        {
          "data": {
            "application/vnd.jupyter.widget-view+json": {
              "model_id": "1342addde8a842919057b4870dcfdb69",
              "version_major": 2,
              "version_minor": 0
            },
            "text/plain": [
              "  0%|          | 0/2 [00:00<?, ?it/s]"
            ]
          },
          "metadata": {},
          "output_type": "display_data"
        },
        {
          "name": "stdout",
          "output_type": "stream",
          "text": [
            "Saved to 'pretrained_u2net'\n"
          ]
        }
      ],
      "source": [
        "await skillsnetwork.prepare(\"https://cf-courses-data.s3.us.cloud-object-storage.appdomain.cloud/IND-GPXX0JV6EN/LargeData/u2net.tgz\", \"pretrained_u2net\", overwrite=True)"
      ]
    },
    {
      "cell_type": "code",
      "execution_count": 18,
      "metadata": {
        "colab": {
          "base_uri": "https://localhost:8080/"
        },
        "id": "H7ej0EtpzO7C",
        "outputId": "bab0e140-7bc8-4183-8204-162da8e132c3"
      },
      "outputs": [
        {
          "data": {
            "text/plain": [
              "<All keys matched successfully>"
            ]
          },
          "execution_count": 18,
          "metadata": {},
          "output_type": "execute_result"
        }
      ],
      "source": [
        "net.load_state_dict(torch.load(\"pretrained_u2net/u2net.pth\", map_location='cpu'), strict=False)"
      ]
    },
    {
      "cell_type": "markdown",
      "metadata": {
        "id": "5d28a42e-6601-4549-bcd7-73c37009e32f"
      },
      "source": [
        "To use the U2-Net for human portrait generation, let's first prepare some test photos of human faces.\n"
      ]
    },
    {
      "cell_type": "code",
      "execution_count": 19,
      "metadata": {
        "colab": {
          "base_uri": "https://localhost:8080/",
          "height": 99,
          "referenced_widgets": [
            "cac2ec61653045b1b57916f96370d730",
            "35ca47bd724648c792aef0a8afe9c93e",
            "f3b07a9d99914154b717608a2ea711d1",
            "2e71f06de12d424c8c4c754698a65b54",
            "d99460451e43458ebfc06c37f66a6142",
            "a81638b2d0b44444bd6a3b6e88c4d973",
            "2a10f2ec311a46b8a16ff943a7dbe0fc",
            "6c38d8dddd894c62b9572eb6acadc6af",
            "dcba65e312db446590a831769694766e",
            "0d3fd5fc9cbc4f2790308dba92404611",
            "df20dd9f94a743e780a6f6e9907c0f34",
            "7de3339445f447d0b911e134c7740ae6",
            "ed64f20d4cb8475fa9694dec8eac1a03",
            "cbec2903e67c425ab11378afd3fa095e",
            "a4727f84159b4119863dcb397d68af23",
            "2e7dc39e30714895b5a61f3d02b2e6fa",
            "bcc9f5e21bbe42fd804a1294aafe0eaf",
            "d9a21b86b7e24020826cfc816ba15f5c",
            "987eec56ebb440db87cea7080cf1cf32",
            "4e07dce759b04d2d90e26834a2a77fac",
            "82cbd38796ec448b9bdb64c0915e9755",
            "c61d90dbc5864585af29985dda3d2afa"
          ]
        },
        "id": "b7aea64a-a5e9-4698-833a-b810e9439784",
        "outputId": "0a0bc5d8-1b22-409e-ba55-c617159768c2"
      },
      "outputs": [
        {
          "data": {
            "application/vnd.jupyter.widget-view+json": {
              "model_id": "d17f545131e04ba3b89a034d511b757d",
              "version_major": 2,
              "version_minor": 0
            },
            "text/plain": [
              "Downloading test.tgz:   0%|          | 0/2064452 [00:00<?, ?it/s]"
            ]
          },
          "metadata": {},
          "output_type": "display_data"
        },
        {
          "data": {
            "application/vnd.jupyter.widget-view+json": {
              "model_id": "a390340aca7c408fb14e946935a5a45c",
              "version_major": 2,
              "version_minor": 0
            },
            "text/plain": [
              "  0%|          | 0/23 [00:00<?, ?it/s]"
            ]
          },
          "metadata": {},
          "output_type": "display_data"
        },
        {
          "name": "stdout",
          "output_type": "stream",
          "text": [
            "Saved to '.'\n"
          ]
        }
      ],
      "source": [
        "await skillsnetwork.prepare(\"https://cf-courses-data.s3.us.cloud-object-storage.appdomain.cloud/IND-GPXX0JV6EN/data/test.tgz\", overwrite=True)"
      ]
    },
    {
      "cell_type": "markdown",
      "metadata": {
        "id": "37fcab76-5db7-4c6d-a70f-0f5afc9ebf41"
      },
      "source": [
        "### Creating a Dataloader\n"
      ]
    },
    {
      "cell_type": "markdown",
      "metadata": {
        "id": "c9886c94-07b5-41f3-b3a2-f52c5dee312b"
      },
      "source": [
        "We need to create a PyTorch dataloader for feeding the test data to `net`. The `LoadDataset` class can produce a PyTorch Dataset object that generates samples of test images.\n"
      ]
    },
    {
      "cell_type": "code",
      "execution_count": 20,
      "metadata": {
        "id": "eef22853-d92a-47d8-9d9a-59e2be41b506"
      },
      "outputs": [],
      "source": [
        "class LoadDataset(Dataset):\n",
        "    def __init__(self, img_dir, transform=None):\n",
        "        self.img_dir = img_dir\n",
        "        self.transform = transform\n",
        "        self.img_name_list = [x for x in os.listdir(img_dir) if not x.startswith(\".\")]\n",
        "\n",
        "\n",
        "    def __len__(self):\n",
        "        return len(self.img_name_list)\n",
        "\n",
        "    def __getitem__(self, idx):\n",
        "        if torch.is_tensor(idx):\n",
        "            idx = idx.tolist()\n",
        "\n",
        "        img_name = os.path.join(self.img_dir, self.img_name_list[idx])\n",
        "        image = io.imread(img_name)\n",
        "        imidx = np.array([idx])\n",
        "        sample = {'imidx':imidx, 'image':image}\n",
        "\n",
        "        if self.transform:\n",
        "            sample = self.transform(sample)\n",
        "\n",
        "        return sample\n"
      ]
    },
    {
      "cell_type": "markdown",
      "metadata": {
        "id": "78ebea40-214e-43b9-bac9-6e0a198bf8c2"
      },
      "source": [
        "As the test photos were downloaded to the `images` folder, we pass the path to `LoadDataset`. We also specify that we want to transform the images using `RescaleT` and `ToTensor`, which were defined previously in the **Defining Helper Functions** section.\n"
      ]
    },
    {
      "cell_type": "code",
      "execution_count": 21,
      "metadata": {
        "id": "7a445a33-656a-4ffc-ad8a-2708400a2cc3"
      },
      "outputs": [],
      "source": [
        "photos_dataset = LoadDataset(img_dir = 'images/test_photos',\n",
        "                             transform = transforms.Compose([RescaleT(512),\n",
        "                                                             ToTensor(0)]))"
      ]
    },
    {
      "cell_type": "markdown",
      "metadata": {
        "id": "23abaedc-a8fb-482a-915e-808fd195b807"
      },
      "source": [
        "We create a PyTorch dataloader called `photos_dataloader` with `photos_dataset`. Batch size equals 1 because we will inference one photo at a time.\n"
      ]
    },
    {
      "cell_type": "code",
      "execution_count": 22,
      "metadata": {
        "id": "73dad0ee-3db3-4b1e-a82b-d8bab4a43c5f"
      },
      "outputs": [],
      "source": [
        "photos_dataloader = DataLoader(photos_dataset,\n",
        "                               batch_size=1)"
      ]
    },
    {
      "cell_type": "markdown",
      "metadata": {
        "id": "58617e32-2e2d-4b88-94f5-da893696a519"
      },
      "source": [
        "Let's visualize the photos in our `photos_dataloader`:\n"
      ]
    },
    {
      "cell_type": "code",
      "execution_count": 23,
      "metadata": {
        "colab": {
          "base_uri": "https://localhost:8080/",
          "height": 338
        },
        "id": "45c69ff2-928d-44e0-addf-14e73415ce6a",
        "outputId": "742dbafa-ff95-4473-a1c7-590037fdf3d1"
      },
      "outputs": [
        {
          "data": {
            "image/png": "[encoded data removed]",
            "text/plain": [
              "<Figure size 1000x400 with 10 Axes>"
            ]
          },
          "metadata": {},
          "output_type": "display_data"
        }
      ],
      "source": [
        "fig = plt.figure(figsize=(10,4))\n",
        "\n",
        "for i, sample in enumerate(photos_dataloader):\n",
        "    img_arr = np.transpose((sample['image'].numpy()[0]+3)/6, (1,2,0))\n",
        "    ax = fig.add_subplot(2,5,i+1)\n",
        "    ax.imshow(img_arr)\n",
        "    ax.axis(\"off\")"
      ]
    },
    {
      "cell_type": "markdown",
      "metadata": {
        "id": "9f54fe42-da2f-4724-a79b-3003d7cb0a5c"
      },
      "source": [
        "We have photos of 10 human faces, which we will now pass to our U2-Net `net` for generating portraits of these faces.\n"
      ]
    },
    {
      "cell_type": "markdown",
      "metadata": {
        "id": "9ff115cc-c641-48b2-b623-e83c1d6f90bf"
      },
      "source": [
        "### Inference!\n"
      ]
    },
    {
      "cell_type": "markdown",
      "metadata": {
        "id": "a36c61fe-0b62-4b4f-ba84-d67b81ae78aa"
      },
      "source": [
        "The code below takes care of the inference procedure. For each input image, it takes the saliency probability map predicted by the U2-Net, normalizes the prediction, and converts it back to a RGB image for visualization. It should take less than 5 minutes to finish inferencing 10 images.\n"
      ]
    },
    {
      "cell_type": "code",
      "execution_count": null,
      "metadata": {
        "colab": {
          "base_uri": "https://localhost:8080/",
          "height": 517
        },
        "id": "c83fbafb-3f30-473c-87f6-f5f0db285538",
        "outputId": "3ec5587b-4c3a-4439-e7a7-537a7821b426"
      },
      "outputs": [],
      "source": [
        "fig = plt.figure(figsize=(10,4))\n",
        "\n",
        "for i, sample in enumerate(photos_dataloader):\n",
        "\n",
        "\n",
        "    print(f\"inferencing photo #{i+1}:\")\n",
        "\n",
        "    input_test = sample['image']\n",
        "    input_test = input_test.type(torch.FloatTensor)\n",
        "    input_test = Variable(input_test)\n",
        "\n",
        "    d = net(input_test)\n",
        "\n",
        "    # normalization\n",
        "    pred = 1.0 - d[:,0,:,:]\n",
        "    pred = normPRED(pred)\n",
        "\n",
        "    predict = pred.squeeze()\n",
        "    predict_np = predict.cpu().data.numpy()\n",
        "    img = Image.fromarray(predict_np*255).convert('RGB')\n",
        "    img_array = np.array(img)\n",
        "\n",
        "    ax = fig.add_subplot(2,5,i+1)\n",
        "    ax.imshow(img_array)\n",
        "    ax.axis(\"off\")\n",
        "\n",
        "    del input_test, d, pred, predict, predict_np, img, img_array"
      ]
    },
    {
      "cell_type": "markdown",
      "metadata": {
        "id": "9cc5b9a1-6737-4a01-b98e-7c155e721da2"
      },
      "source": [
        "### Generate your own portrait\n"
      ]
    },
    {
      "cell_type": "code",
      "execution_count": null,
      "metadata": {
        "id": "6a36fd39-426a-40f8-b22f-7efedd129db0"
      },
      "outputs": [],
      "source": [
        "your_dataset = LoadDataset(img_dir = 'test',\n",
        "                             transform = transforms.Compose([RescaleT(512),\n",
        "                                                             ToTensor(0)]))\n",
        "your_dataloader = DataLoader(your_dataset,\n",
        "                               batch_size=1)"
      ]
    },
    {
      "cell_type": "code",
      "execution_count": null,
      "metadata": {
        "colab": {
          "base_uri": "https://localhost:8080/",
          "height": 460
        },
        "id": "2651e0e8-1ec7-4d3e-9758-a37605fe5b12",
        "outputId": "8390dc67-05b6-402c-c229-f6a94c798d5b"
      },
      "outputs": [
        {
          "name": "stdout",
          "output_type": "stream",
          "text": [
            "inferencing photo #1:\n",
            "inferencing photo #2:\n",
            "inferencing photo #3:\n"
          ]
        },
        {
          "data": {
            "image/png": "[encoded data removed]",
            "text/plain": [
              "<Figure size 640x480 with 1 Axes>"
            ]
          },
          "metadata": {},
          "output_type": "display_data"
        }
      ],
      "source": [
        "for i, sample in enumerate(your_dataloader):\n",
        "\n",
        "\n",
        "    print(f\"inferencing photo #{i+1}:\")\n",
        "\n",
        "    input_test = Variable(sample['image'].type(torch.FloatTensor))\n",
        "    d = net(input_test)\n",
        "\n",
        "    # normalization\n",
        "    pred = normPRED(1.0 - d[:,0,:,:])\n",
        "\n",
        "    predict = pred.squeeze().cpu().data.numpy()\n",
        "    img = Image.fromarray(predict*255).convert('RGB')\n",
        "\n",
        "    plt.imshow(np.array(img))\n",
        "    plt.axis(\"off\")\n",
        "\n",
        "    del input_test, d, pred, predict, img"
      ]
    }
  ],
  "metadata": {
    "colab": {
      "provenance": []
    },
    "kernelspec": {
      "display_name": "base",
      "language": "python",
      "name": "python3"
    },
    "language_info": {
      "codemirror_mode": {
        "name": "ipython",
        "version": 3
      },
      "file_extension": ".py",
      "mimetype": "text/x-python",
      "name": "python",
      "nbconvert_exporter": "python",
      "pygments_lexer": "ipython3",
      "version": "3.11.4"
    },
    "widgets": {
      "application/vnd.jupyter.widget-state+json": {
        "01e65e71f5464600b9fdc9526e1ab5b4": {
          "model_module": "@jupyter-widgets/controls",
          "model_module_version": "1.5.0",
          "model_name": "DescriptionStyleModel",
          "state": {
            "_model_module": "@jupyter-widgets/controls",
            "_model_module_version": "1.5.0",
            "_model_name": "DescriptionStyleModel",
            "_view_count": null,
            "_view_module": "@jupyter-widgets/base",
            "_view_module_version": "1.2.0",
            "_view_name": "StyleView",
            "description_width": ""
          }
        },
        "033ec08281f84f20b6e896c7530896ec": {
          "model_module": "@jupyter-widgets/controls",
          "model_module_version": "1.5.0",
          "model_name": "ProgressStyleModel",
          "state": {
            "_model_module": "@jupyter-widgets/controls",
            "_model_module_version": "1.5.0",
            "_model_name": "ProgressStyleModel",
            "_view_count": null,
            "_view_module": "@jupyter-widgets/base",
            "_view_module_version": "1.2.0",
            "_view_name": "StyleView",
            "bar_color": null,
            "description_width": ""
          }
        },
        "0d3fd5fc9cbc4f2790308dba92404611": {
          "model_module": "@jupyter-widgets/base",
          "model_module_version": "1.2.0",
          "model_name": "LayoutModel",
          "state": {
            "_model_module": "@jupyter-widgets/base",
            "_model_module_version": "1.2.0",
            "_model_name": "LayoutModel",
            "_view_count": null,
            "_view_module": "@jupyter-widgets/base",
            "_view_module_version": "1.2.0",
            "_view_name": "LayoutView",
            "align_content": null,
            "align_items": null,
            "align_self": null,
            "border": null,
            "bottom": null,
            "display": null,
            "flex": null,
            "flex_flow": null,
            "grid_area": null,
            "grid_auto_columns": null,
            "grid_auto_flow": null,
            "grid_auto_rows": null,
            "grid_column": null,
            "grid_gap": null,
            "grid_row": null,
            "grid_template_areas": null,
            "grid_template_columns": null,
            "grid_template_rows": null,
            "height": null,
            "justify_content": null,
            "justify_items": null,
            "left": null,
            "margin": null,
            "max_height": null,
            "max_width": null,
            "min_height": null,
            "min_width": null,
            "object_fit": null,
            "object_position": null,
            "order": null,
            "overflow": null,
            "overflow_x": null,
            "overflow_y": null,
            "padding": null,
            "right": null,
            "top": null,
            "visibility": null,
            "width": null
          }
        },
        "0d602320f56a42818b9ccd51ab6880f8": {
          "model_module": "@jupyter-widgets/controls",
          "model_module_version": "1.5.0",
          "model_name": "DescriptionStyleModel",
          "state": {
            "_model_module": "@jupyter-widgets/controls",
            "_model_module_version": "1.5.0",
            "_model_name": "DescriptionStyleModel",
            "_view_count": null,
            "_view_module": "@jupyter-widgets/base",
            "_view_module_version": "1.2.0",
            "_view_name": "StyleView",
            "description_width": ""
          }
        },
        "13538b62daf24820926f7abd77e077a9": {
          "model_module": "@jupyter-widgets/base",
          "model_module_version": "1.2.0",
          "model_name": "LayoutModel",
          "state": {
            "_model_module": "@jupyter-widgets/base",
            "_model_module_version": "1.2.0",
            "_model_name": "LayoutModel",
            "_view_count": null,
            "_view_module": "@jupyter-widgets/base",
            "_view_module_version": "1.2.0",
            "_view_name": "LayoutView",
            "align_content": null,
            "align_items": null,
            "align_self": null,
            "border": null,
            "bottom": null,
            "display": null,
            "flex": null,
            "flex_flow": null,
            "grid_area": null,
            "grid_auto_columns": null,
            "grid_auto_flow": null,
            "grid_auto_rows": null,
            "grid_column": null,
            "grid_gap": null,
            "grid_row": null,
            "grid_template_areas": null,
            "grid_template_columns": null,
            "grid_template_rows": null,
            "height": null,
            "justify_content": null,
            "justify_items": null,
            "left": null,
            "margin": null,
            "max_height": null,
            "max_width": null,
            "min_height": null,
            "min_width": null,
            "object_fit": null,
            "object_position": null,
            "order": null,
            "overflow": null,
            "overflow_x": null,
            "overflow_y": null,
            "padding": null,
            "right": null,
            "top": null,
            "visibility": null,
            "width": null
          }
        },
        "1ec87665958c41cd8fe966d85da36541": {
          "model_module": "@jupyter-widgets/controls",
          "model_module_version": "1.5.0",
          "model_name": "DescriptionStyleModel",
          "state": {
            "_model_module": "@jupyter-widgets/controls",
            "_model_module_version": "1.5.0",
            "_model_name": "DescriptionStyleModel",
            "_view_count": null,
            "_view_module": "@jupyter-widgets/base",
            "_view_module_version": "1.2.0",
            "_view_name": "StyleView",
            "description_width": ""
          }
        },
        "2093518fb1e347da9259936307ee5c3c": {
          "model_module": "@jupyter-widgets/controls",
          "model_module_version": "1.5.0",
          "model_name": "HTMLModel",
          "state": {
            "_dom_classes": [],
            "_model_module": "@jupyter-widgets/controls",
            "_model_module_version": "1.5.0",
            "_model_name": "HTMLModel",
            "_view_count": null,
            "_view_module": "@jupyter-widgets/controls",
            "_view_module_version": "1.5.0",
            "_view_name": "HTMLView",
            "description": "",
            "description_tooltip": null,
            "layout": "IPY_MODEL_80e5a5a2bf6e4b7d9d0620584df9693a",
            "placeholder": "​",
            "style": "IPY_MODEL_1ec87665958c41cd8fe966d85da36541",
            "value": " 2/2 [00:01&lt;00:00,  1.04it/s]"
          }
        },
        "23c085ccb2fb4fc7810f5cc20ddfb8df": {
          "model_module": "@jupyter-widgets/controls",
          "model_module_version": "1.5.0",
          "model_name": "FloatProgressModel",
          "state": {
            "_dom_classes": [],
            "_model_module": "@jupyter-widgets/controls",
            "_model_module_version": "1.5.0",
            "_model_name": "FloatProgressModel",
            "_view_count": null,
            "_view_module": "@jupyter-widgets/controls",
            "_view_module_version": "1.5.0",
            "_view_name": "ProgressView",
            "bar_style": "success",
            "description": "",
            "description_tooltip": null,
            "layout": "IPY_MODEL_13538b62daf24820926f7abd77e077a9",
            "max": 2,
            "min": 0,
            "orientation": "horizontal",
            "style": "IPY_MODEL_033ec08281f84f20b6e896c7530896ec",
            "value": 2
          }
        },
        "24bc3beaa3bb47c5a6d6739a32cd2d5e": {
          "model_module": "@jupyter-widgets/controls",
          "model_module_version": "1.5.0",
          "model_name": "DescriptionStyleModel",
          "state": {
            "_model_module": "@jupyter-widgets/controls",
            "_model_module_version": "1.5.0",
            "_model_name": "DescriptionStyleModel",
            "_view_count": null,
            "_view_module": "@jupyter-widgets/base",
            "_view_module_version": "1.2.0",
            "_view_name": "StyleView",
            "description_width": ""
          }
        },
        "26b3b9a338c449c99115a5f819bef083": {
          "model_module": "@jupyter-widgets/base",
          "model_module_version": "1.2.0",
          "model_name": "LayoutModel",
          "state": {
            "_model_module": "@jupyter-widgets/base",
            "_model_module_version": "1.2.0",
            "_model_name": "LayoutModel",
            "_view_count": null,
            "_view_module": "@jupyter-widgets/base",
            "_view_module_version": "1.2.0",
            "_view_name": "LayoutView",
            "align_content": null,
            "align_items": null,
            "align_self": null,
            "border": null,
            "bottom": null,
            "display": null,
            "flex": null,
            "flex_flow": null,
            "grid_area": null,
            "grid_auto_columns": null,
            "grid_auto_flow": null,
            "grid_auto_rows": null,
            "grid_column": null,
            "grid_gap": null,
            "grid_row": null,
            "grid_template_areas": null,
            "grid_template_columns": null,
            "grid_template_rows": null,
            "height": null,
            "justify_content": null,
            "justify_items": null,
            "left": null,
            "margin": null,
            "max_height": null,
            "max_width": null,
            "min_height": null,
            "min_width": null,
            "object_fit": null,
            "object_position": null,
            "order": null,
            "overflow": null,
            "overflow_x": null,
            "overflow_y": null,
            "padding": null,
            "right": null,
            "top": null,
            "visibility": null,
            "width": null
          }
        },
        "2a10f2ec311a46b8a16ff943a7dbe0fc": {
          "model_module": "@jupyter-widgets/controls",
          "model_module_version": "1.5.0",
          "model_name": "DescriptionStyleModel",
          "state": {
            "_model_module": "@jupyter-widgets/controls",
            "_model_module_version": "1.5.0",
            "_model_name": "DescriptionStyleModel",
            "_view_count": null,
            "_view_module": "@jupyter-widgets/base",
            "_view_module_version": "1.2.0",
            "_view_name": "StyleView",
            "description_width": ""
          }
        },
        "2e71f06de12d424c8c4c754698a65b54": {
          "model_module": "@jupyter-widgets/controls",
          "model_module_version": "1.5.0",
          "model_name": "HTMLModel",
          "state": {
            "_dom_classes": [],
            "_model_module": "@jupyter-widgets/controls",
            "_model_module_version": "1.5.0",
            "_model_name": "HTMLModel",
            "_view_count": null,
            "_view_module": "@jupyter-widgets/controls",
            "_view_module_version": "1.5.0",
            "_view_name": "HTMLView",
            "description": "",
            "description_tooltip": null,
            "layout": "IPY_MODEL_0d3fd5fc9cbc4f2790308dba92404611",
            "placeholder": "​",
            "style": "IPY_MODEL_df20dd9f94a743e780a6f6e9907c0f34",
            "value": " 2064452/2064452 [00:02&lt;00:00, 1816018.71it/s]"
          }
        },
        "2e7dc39e30714895b5a61f3d02b2e6fa": {
          "model_module": "@jupyter-widgets/base",
          "model_module_version": "1.2.0",
          "model_name": "LayoutModel",
          "state": {
            "_model_module": "@jupyter-widgets/base",
            "_model_module_version": "1.2.0",
            "_model_name": "LayoutModel",
            "_view_count": null,
            "_view_module": "@jupyter-widgets/base",
            "_view_module_version": "1.2.0",
            "_view_name": "LayoutView",
            "align_content": null,
            "align_items": null,
            "align_self": null,
            "border": null,
            "bottom": null,
            "display": null,
            "flex": null,
            "flex_flow": null,
            "grid_area": null,
            "grid_auto_columns": null,
            "grid_auto_flow": null,
            "grid_auto_rows": null,
            "grid_column": null,
            "grid_gap": null,
            "grid_row": null,
            "grid_template_areas": null,
            "grid_template_columns": null,
            "grid_template_rows": null,
            "height": null,
            "justify_content": null,
            "justify_items": null,
            "left": null,
            "margin": null,
            "max_height": null,
            "max_width": null,
            "min_height": null,
            "min_width": null,
            "object_fit": null,
            "object_position": null,
            "order": null,
            "overflow": null,
            "overflow_x": null,
            "overflow_y": null,
            "padding": null,
            "right": null,
            "top": null,
            "visibility": null,
            "width": null
          }
        },
        "35ca47bd724648c792aef0a8afe9c93e": {
          "model_module": "@jupyter-widgets/controls",
          "model_module_version": "1.5.0",
          "model_name": "HTMLModel",
          "state": {
            "_dom_classes": [],
            "_model_module": "@jupyter-widgets/controls",
            "_model_module_version": "1.5.0",
            "_model_name": "HTMLModel",
            "_view_count": null,
            "_view_module": "@jupyter-widgets/controls",
            "_view_module_version": "1.5.0",
            "_view_name": "HTMLView",
            "description": "",
            "description_tooltip": null,
            "layout": "IPY_MODEL_a81638b2d0b44444bd6a3b6e88c4d973",
            "placeholder": "​",
            "style": "IPY_MODEL_2a10f2ec311a46b8a16ff943a7dbe0fc",
            "value": "Downloading test.tgz: 100%"
          }
        },
        "4e07dce759b04d2d90e26834a2a77fac": {
          "model_module": "@jupyter-widgets/controls",
          "model_module_version": "1.5.0",
          "model_name": "ProgressStyleModel",
          "state": {
            "_model_module": "@jupyter-widgets/controls",
            "_model_module_version": "1.5.0",
            "_model_name": "ProgressStyleModel",
            "_view_count": null,
            "_view_module": "@jupyter-widgets/base",
            "_view_module_version": "1.2.0",
            "_view_name": "StyleView",
            "bar_color": null,
            "description_width": ""
          }
        },
        "5242bfe13fa54be78bf3273cceb331fe": {
          "model_module": "@jupyter-widgets/controls",
          "model_module_version": "1.5.0",
          "model_name": "HTMLModel",
          "state": {
            "_dom_classes": [],
            "_model_module": "@jupyter-widgets/controls",
            "_model_module_version": "1.5.0",
            "_model_name": "HTMLModel",
            "_view_count": null,
            "_view_module": "@jupyter-widgets/controls",
            "_view_module_version": "1.5.0",
            "_view_name": "HTMLView",
            "description": "",
            "description_tooltip": null,
            "layout": "IPY_MODEL_639bb0c8fb7a4770923238439e110c53",
            "placeholder": "​",
            "style": "IPY_MODEL_0d602320f56a42818b9ccd51ab6880f8",
            "value": "Extracting u2net.tgz: 100%"
          }
        },
        "53efdd342b58401eadc76ac3470bf224": {
          "model_module": "@jupyter-widgets/controls",
          "model_module_version": "1.5.0",
          "model_name": "HBoxModel",
          "state": {
            "_dom_classes": [],
            "_model_module": "@jupyter-widgets/controls",
            "_model_module_version": "1.5.0",
            "_model_name": "HBoxModel",
            "_view_count": null,
            "_view_module": "@jupyter-widgets/controls",
            "_view_module_version": "1.5.0",
            "_view_name": "HBoxView",
            "box_style": "",
            "children": [
              "IPY_MODEL_5242bfe13fa54be78bf3273cceb331fe",
              "IPY_MODEL_23c085ccb2fb4fc7810f5cc20ddfb8df",
              "IPY_MODEL_2093518fb1e347da9259936307ee5c3c"
            ],
            "layout": "IPY_MODEL_671606cadfd94275a2cbb3107377c251"
          }
        },
        "639bb0c8fb7a4770923238439e110c53": {
          "model_module": "@jupyter-widgets/base",
          "model_module_version": "1.2.0",
          "model_name": "LayoutModel",
          "state": {
            "_model_module": "@jupyter-widgets/base",
            "_model_module_version": "1.2.0",
            "_model_name": "LayoutModel",
            "_view_count": null,
            "_view_module": "@jupyter-widgets/base",
            "_view_module_version": "1.2.0",
            "_view_name": "LayoutView",
            "align_content": null,
            "align_items": null,
            "align_self": null,
            "border": null,
            "bottom": null,
            "display": null,
            "flex": null,
            "flex_flow": null,
            "grid_area": null,
            "grid_auto_columns": null,
            "grid_auto_flow": null,
            "grid_auto_rows": null,
            "grid_column": null,
            "grid_gap": null,
            "grid_row": null,
            "grid_template_areas": null,
            "grid_template_columns": null,
            "grid_template_rows": null,
            "height": null,
            "justify_content": null,
            "justify_items": null,
            "left": null,
            "margin": null,
            "max_height": null,
            "max_width": null,
            "min_height": null,
            "min_width": null,
            "object_fit": null,
            "object_position": null,
            "order": null,
            "overflow": null,
            "overflow_x": null,
            "overflow_y": null,
            "padding": null,
            "right": null,
            "top": null,
            "visibility": null,
            "width": null
          }
        },
        "671606cadfd94275a2cbb3107377c251": {
          "model_module": "@jupyter-widgets/base",
          "model_module_version": "1.2.0",
          "model_name": "LayoutModel",
          "state": {
            "_model_module": "@jupyter-widgets/base",
            "_model_module_version": "1.2.0",
            "_model_name": "LayoutModel",
            "_view_count": null,
            "_view_module": "@jupyter-widgets/base",
            "_view_module_version": "1.2.0",
            "_view_name": "LayoutView",
            "align_content": null,
            "align_items": null,
            "align_self": null,
            "border": null,
            "bottom": null,
            "display": null,
            "flex": null,
            "flex_flow": null,
            "grid_area": null,
            "grid_auto_columns": null,
            "grid_auto_flow": null,
            "grid_auto_rows": null,
            "grid_column": null,
            "grid_gap": null,
            "grid_row": null,
            "grid_template_areas": null,
            "grid_template_columns": null,
            "grid_template_rows": null,
            "height": null,
            "justify_content": null,
            "justify_items": null,
            "left": null,
            "margin": null,
            "max_height": null,
            "max_width": null,
            "min_height": null,
            "min_width": null,
            "object_fit": null,
            "object_position": null,
            "order": null,
            "overflow": null,
            "overflow_x": null,
            "overflow_y": null,
            "padding": null,
            "right": null,
            "top": null,
            "visibility": null,
            "width": null
          }
        },
        "6c38d8dddd894c62b9572eb6acadc6af": {
          "model_module": "@jupyter-widgets/base",
          "model_module_version": "1.2.0",
          "model_name": "LayoutModel",
          "state": {
            "_model_module": "@jupyter-widgets/base",
            "_model_module_version": "1.2.0",
            "_model_name": "LayoutModel",
            "_view_count": null,
            "_view_module": "@jupyter-widgets/base",
            "_view_module_version": "1.2.0",
            "_view_name": "LayoutView",
            "align_content": null,
            "align_items": null,
            "align_self": null,
            "border": null,
            "bottom": null,
            "display": null,
            "flex": null,
            "flex_flow": null,
            "grid_area": null,
            "grid_auto_columns": null,
            "grid_auto_flow": null,
            "grid_auto_rows": null,
            "grid_column": null,
            "grid_gap": null,
            "grid_row": null,
            "grid_template_areas": null,
            "grid_template_columns": null,
            "grid_template_rows": null,
            "height": null,
            "justify_content": null,
            "justify_items": null,
            "left": null,
            "margin": null,
            "max_height": null,
            "max_width": null,
            "min_height": null,
            "min_width": null,
            "object_fit": null,
            "object_position": null,
            "order": null,
            "overflow": null,
            "overflow_x": null,
            "overflow_y": null,
            "padding": null,
            "right": null,
            "top": null,
            "visibility": null,
            "width": null
          }
        },
        "7de3339445f447d0b911e134c7740ae6": {
          "model_module": "@jupyter-widgets/controls",
          "model_module_version": "1.5.0",
          "model_name": "HBoxModel",
          "state": {
            "_dom_classes": [],
            "_model_module": "@jupyter-widgets/controls",
            "_model_module_version": "1.5.0",
            "_model_name": "HBoxModel",
            "_view_count": null,
            "_view_module": "@jupyter-widgets/controls",
            "_view_module_version": "1.5.0",
            "_view_name": "HBoxView",
            "box_style": "",
            "children": [
              "IPY_MODEL_ed64f20d4cb8475fa9694dec8eac1a03",
              "IPY_MODEL_cbec2903e67c425ab11378afd3fa095e",
              "IPY_MODEL_a4727f84159b4119863dcb397d68af23"
            ],
            "layout": "IPY_MODEL_2e7dc39e30714895b5a61f3d02b2e6fa"
          }
        },
        "7e507e8a29574fc4af8f5b343d1bca11": {
          "model_module": "@jupyter-widgets/controls",
          "model_module_version": "1.5.0",
          "model_name": "HBoxModel",
          "state": {
            "_dom_classes": [],
            "_model_module": "@jupyter-widgets/controls",
            "_model_module_version": "1.5.0",
            "_model_name": "HBoxModel",
            "_view_count": null,
            "_view_module": "@jupyter-widgets/controls",
            "_view_module_version": "1.5.0",
            "_view_name": "HBoxView",
            "box_style": "",
            "children": [
              "IPY_MODEL_ef8e0d25886e48cf87d9434533d57fee",
              "IPY_MODEL_917e3aa1dea84766aeb0def76de21a19",
              "IPY_MODEL_99a62cb77fc3433a9ac68881a4c5e82a"
            ],
            "layout": "IPY_MODEL_c4eb198fefba40838e83af3f4851c42e"
          }
        },
        "80e5a5a2bf6e4b7d9d0620584df9693a": {
          "model_module": "@jupyter-widgets/base",
          "model_module_version": "1.2.0",
          "model_name": "LayoutModel",
          "state": {
            "_model_module": "@jupyter-widgets/base",
            "_model_module_version": "1.2.0",
            "_model_name": "LayoutModel",
            "_view_count": null,
            "_view_module": "@jupyter-widgets/base",
            "_view_module_version": "1.2.0",
            "_view_name": "LayoutView",
            "align_content": null,
            "align_items": null,
            "align_self": null,
            "border": null,
            "bottom": null,
            "display": null,
            "flex": null,
            "flex_flow": null,
            "grid_area": null,
            "grid_auto_columns": null,
            "grid_auto_flow": null,
            "grid_auto_rows": null,
            "grid_column": null,
            "grid_gap": null,
            "grid_row": null,
            "grid_template_areas": null,
            "grid_template_columns": null,
            "grid_template_rows": null,
            "height": null,
            "justify_content": null,
            "justify_items": null,
            "left": null,
            "margin": null,
            "max_height": null,
            "max_width": null,
            "min_height": null,
            "min_width": null,
            "object_fit": null,
            "object_position": null,
            "order": null,
            "overflow": null,
            "overflow_x": null,
            "overflow_y": null,
            "padding": null,
            "right": null,
            "top": null,
            "visibility": null,
            "width": null
          }
        },
        "82cbd38796ec448b9bdb64c0915e9755": {
          "model_module": "@jupyter-widgets/base",
          "model_module_version": "1.2.0",
          "model_name": "LayoutModel",
          "state": {
            "_model_module": "@jupyter-widgets/base",
            "_model_module_version": "1.2.0",
            "_model_name": "LayoutModel",
            "_view_count": null,
            "_view_module": "@jupyter-widgets/base",
            "_view_module_version": "1.2.0",
            "_view_name": "LayoutView",
            "align_content": null,
            "align_items": null,
            "align_self": null,
            "border": null,
            "bottom": null,
            "display": null,
            "flex": null,
            "flex_flow": null,
            "grid_area": null,
            "grid_auto_columns": null,
            "grid_auto_flow": null,
            "grid_auto_rows": null,
            "grid_column": null,
            "grid_gap": null,
            "grid_row": null,
            "grid_template_areas": null,
            "grid_template_columns": null,
            "grid_template_rows": null,
            "height": null,
            "justify_content": null,
            "justify_items": null,
            "left": null,
            "margin": null,
            "max_height": null,
            "max_width": null,
            "min_height": null,
            "min_width": null,
            "object_fit": null,
            "object_position": null,
            "order": null,
            "overflow": null,
            "overflow_x": null,
            "overflow_y": null,
            "padding": null,
            "right": null,
            "top": null,
            "visibility": null,
            "width": null
          }
        },
        "917e3aa1dea84766aeb0def76de21a19": {
          "model_module": "@jupyter-widgets/controls",
          "model_module_version": "1.5.0",
          "model_name": "FloatProgressModel",
          "state": {
            "_dom_classes": [],
            "_model_module": "@jupyter-widgets/controls",
            "_model_module_version": "1.5.0",
            "_model_name": "FloatProgressModel",
            "_view_count": null,
            "_view_module": "@jupyter-widgets/controls",
            "_view_module_version": "1.5.0",
            "_view_name": "ProgressView",
            "bar_style": "success",
            "description": "",
            "description_tooltip": null,
            "layout": "IPY_MODEL_b2f48b5dffb54b90a78d683d7ecf6fdc",
            "max": 163399348,
            "min": 0,
            "orientation": "horizontal",
            "style": "IPY_MODEL_d19f89cfb4f041acbd75643af770c51e",
            "value": 163399348
          }
        },
        "987eec56ebb440db87cea7080cf1cf32": {
          "model_module": "@jupyter-widgets/base",
          "model_module_version": "1.2.0",
          "model_name": "LayoutModel",
          "state": {
            "_model_module": "@jupyter-widgets/base",
            "_model_module_version": "1.2.0",
            "_model_name": "LayoutModel",
            "_view_count": null,
            "_view_module": "@jupyter-widgets/base",
            "_view_module_version": "1.2.0",
            "_view_name": "LayoutView",
            "align_content": null,
            "align_items": null,
            "align_self": null,
            "border": null,
            "bottom": null,
            "display": null,
            "flex": null,
            "flex_flow": null,
            "grid_area": null,
            "grid_auto_columns": null,
            "grid_auto_flow": null,
            "grid_auto_rows": null,
            "grid_column": null,
            "grid_gap": null,
            "grid_row": null,
            "grid_template_areas": null,
            "grid_template_columns": null,
            "grid_template_rows": null,
            "height": null,
            "justify_content": null,
            "justify_items": null,
            "left": null,
            "margin": null,
            "max_height": null,
            "max_width": null,
            "min_height": null,
            "min_width": null,
            "object_fit": null,
            "object_position": null,
            "order": null,
            "overflow": null,
            "overflow_x": null,
            "overflow_y": null,
            "padding": null,
            "right": null,
            "top": null,
            "visibility": null,
            "width": null
          }
        },
        "99a62cb77fc3433a9ac68881a4c5e82a": {
          "model_module": "@jupyter-widgets/controls",
          "model_module_version": "1.5.0",
          "model_name": "HTMLModel",
          "state": {
            "_dom_classes": [],
            "_model_module": "@jupyter-widgets/controls",
            "_model_module_version": "1.5.0",
            "_model_name": "HTMLModel",
            "_view_count": null,
            "_view_module": "@jupyter-widgets/controls",
            "_view_module_version": "1.5.0",
            "_view_name": "HTMLView",
            "description": "",
            "description_tooltip": null,
            "layout": "IPY_MODEL_d4de144017e34e2e82356814ceb7f6b2",
            "placeholder": "​",
            "style": "IPY_MODEL_24bc3beaa3bb47c5a6d6739a32cd2d5e",
            "value": " 163399348/163399348 [00:04&lt;00:00, 31048796.25it/s]"
          }
        },
        "a4727f84159b4119863dcb397d68af23": {
          "model_module": "@jupyter-widgets/controls",
          "model_module_version": "1.5.0",
          "model_name": "HTMLModel",
          "state": {
            "_dom_classes": [],
            "_model_module": "@jupyter-widgets/controls",
            "_model_module_version": "1.5.0",
            "_model_name": "HTMLModel",
            "_view_count": null,
            "_view_module": "@jupyter-widgets/controls",
            "_view_module_version": "1.5.0",
            "_view_name": "HTMLView",
            "description": "",
            "description_tooltip": null,
            "layout": "IPY_MODEL_82cbd38796ec448b9bdb64c0915e9755",
            "placeholder": "​",
            "style": "IPY_MODEL_c61d90dbc5864585af29985dda3d2afa",
            "value": " 23/23 [00:00&lt;00:00, 454.10it/s]"
          }
        },
        "a81638b2d0b44444bd6a3b6e88c4d973": {
          "model_module": "@jupyter-widgets/base",
          "model_module_version": "1.2.0",
          "model_name": "LayoutModel",
          "state": {
            "_model_module": "@jupyter-widgets/base",
            "_model_module_version": "1.2.0",
            "_model_name": "LayoutModel",
            "_view_count": null,
            "_view_module": "@jupyter-widgets/base",
            "_view_module_version": "1.2.0",
            "_view_name": "LayoutView",
            "align_content": null,
            "align_items": null,
            "align_self": null,
            "border": null,
            "bottom": null,
            "display": null,
            "flex": null,
            "flex_flow": null,
            "grid_area": null,
            "grid_auto_columns": null,
            "grid_auto_flow": null,
            "grid_auto_rows": null,
            "grid_column": null,
            "grid_gap": null,
            "grid_row": null,
            "grid_template_areas": null,
            "grid_template_columns": null,
            "grid_template_rows": null,
            "height": null,
            "justify_content": null,
            "justify_items": null,
            "left": null,
            "margin": null,
            "max_height": null,
            "max_width": null,
            "min_height": null,
            "min_width": null,
            "object_fit": null,
            "object_position": null,
            "order": null,
            "overflow": null,
            "overflow_x": null,
            "overflow_y": null,
            "padding": null,
            "right": null,
            "top": null,
            "visibility": null,
            "width": null
          }
        },
        "b2f48b5dffb54b90a78d683d7ecf6fdc": {
          "model_module": "@jupyter-widgets/base",
          "model_module_version": "1.2.0",
          "model_name": "LayoutModel",
          "state": {
            "_model_module": "@jupyter-widgets/base",
            "_model_module_version": "1.2.0",
            "_model_name": "LayoutModel",
            "_view_count": null,
            "_view_module": "@jupyter-widgets/base",
            "_view_module_version": "1.2.0",
            "_view_name": "LayoutView",
            "align_content": null,
            "align_items": null,
            "align_self": null,
            "border": null,
            "bottom": null,
            "display": null,
            "flex": null,
            "flex_flow": null,
            "grid_area": null,
            "grid_auto_columns": null,
            "grid_auto_flow": null,
            "grid_auto_rows": null,
            "grid_column": null,
            "grid_gap": null,
            "grid_row": null,
            "grid_template_areas": null,
            "grid_template_columns": null,
            "grid_template_rows": null,
            "height": null,
            "justify_content": null,
            "justify_items": null,
            "left": null,
            "margin": null,
            "max_height": null,
            "max_width": null,
            "min_height": null,
            "min_width": null,
            "object_fit": null,
            "object_position": null,
            "order": null,
            "overflow": null,
            "overflow_x": null,
            "overflow_y": null,
            "padding": null,
            "right": null,
            "top": null,
            "visibility": null,
            "width": null
          }
        },
        "bcc9f5e21bbe42fd804a1294aafe0eaf": {
          "model_module": "@jupyter-widgets/base",
          "model_module_version": "1.2.0",
          "model_name": "LayoutModel",
          "state": {
            "_model_module": "@jupyter-widgets/base",
            "_model_module_version": "1.2.0",
            "_model_name": "LayoutModel",
            "_view_count": null,
            "_view_module": "@jupyter-widgets/base",
            "_view_module_version": "1.2.0",
            "_view_name": "LayoutView",
            "align_content": null,
            "align_items": null,
            "align_self": null,
            "border": null,
            "bottom": null,
            "display": null,
            "flex": null,
            "flex_flow": null,
            "grid_area": null,
            "grid_auto_columns": null,
            "grid_auto_flow": null,
            "grid_auto_rows": null,
            "grid_column": null,
            "grid_gap": null,
            "grid_row": null,
            "grid_template_areas": null,
            "grid_template_columns": null,
            "grid_template_rows": null,
            "height": null,
            "justify_content": null,
            "justify_items": null,
            "left": null,
            "margin": null,
            "max_height": null,
            "max_width": null,
            "min_height": null,
            "min_width": null,
            "object_fit": null,
            "object_position": null,
            "order": null,
            "overflow": null,
            "overflow_x": null,
            "overflow_y": null,
            "padding": null,
            "right": null,
            "top": null,
            "visibility": null,
            "width": null
          }
        },
        "c4eb198fefba40838e83af3f4851c42e": {
          "model_module": "@jupyter-widgets/base",
          "model_module_version": "1.2.0",
          "model_name": "LayoutModel",
          "state": {
            "_model_module": "@jupyter-widgets/base",
            "_model_module_version": "1.2.0",
            "_model_name": "LayoutModel",
            "_view_count": null,
            "_view_module": "@jupyter-widgets/base",
            "_view_module_version": "1.2.0",
            "_view_name": "LayoutView",
            "align_content": null,
            "align_items": null,
            "align_self": null,
            "border": null,
            "bottom": null,
            "display": null,
            "flex": null,
            "flex_flow": null,
            "grid_area": null,
            "grid_auto_columns": null,
            "grid_auto_flow": null,
            "grid_auto_rows": null,
            "grid_column": null,
            "grid_gap": null,
            "grid_row": null,
            "grid_template_areas": null,
            "grid_template_columns": null,
            "grid_template_rows": null,
            "height": null,
            "justify_content": null,
            "justify_items": null,
            "left": null,
            "margin": null,
            "max_height": null,
            "max_width": null,
            "min_height": null,
            "min_width": null,
            "object_fit": null,
            "object_position": null,
            "order": null,
            "overflow": null,
            "overflow_x": null,
            "overflow_y": null,
            "padding": null,
            "right": null,
            "top": null,
            "visibility": null,
            "width": null
          }
        },
        "c61d90dbc5864585af29985dda3d2afa": {
          "model_module": "@jupyter-widgets/controls",
          "model_module_version": "1.5.0",
          "model_name": "DescriptionStyleModel",
          "state": {
            "_model_module": "@jupyter-widgets/controls",
            "_model_module_version": "1.5.0",
            "_model_name": "DescriptionStyleModel",
            "_view_count": null,
            "_view_module": "@jupyter-widgets/base",
            "_view_module_version": "1.2.0",
            "_view_name": "StyleView",
            "description_width": ""
          }
        },
        "cac2ec61653045b1b57916f96370d730": {
          "model_module": "@jupyter-widgets/controls",
          "model_module_version": "1.5.0",
          "model_name": "HBoxModel",
          "state": {
            "_dom_classes": [],
            "_model_module": "@jupyter-widgets/controls",
            "_model_module_version": "1.5.0",
            "_model_name": "HBoxModel",
            "_view_count": null,
            "_view_module": "@jupyter-widgets/controls",
            "_view_module_version": "1.5.0",
            "_view_name": "HBoxView",
            "box_style": "",
            "children": [
              "IPY_MODEL_35ca47bd724648c792aef0a8afe9c93e",
              "IPY_MODEL_f3b07a9d99914154b717608a2ea711d1",
              "IPY_MODEL_2e71f06de12d424c8c4c754698a65b54"
            ],
            "layout": "IPY_MODEL_d99460451e43458ebfc06c37f66a6142"
          }
        },
        "cbec2903e67c425ab11378afd3fa095e": {
          "model_module": "@jupyter-widgets/controls",
          "model_module_version": "1.5.0",
          "model_name": "FloatProgressModel",
          "state": {
            "_dom_classes": [],
            "_model_module": "@jupyter-widgets/controls",
            "_model_module_version": "1.5.0",
            "_model_name": "FloatProgressModel",
            "_view_count": null,
            "_view_module": "@jupyter-widgets/controls",
            "_view_module_version": "1.5.0",
            "_view_name": "ProgressView",
            "bar_style": "success",
            "description": "",
            "description_tooltip": null,
            "layout": "IPY_MODEL_987eec56ebb440db87cea7080cf1cf32",
            "max": 23,
            "min": 0,
            "orientation": "horizontal",
            "style": "IPY_MODEL_4e07dce759b04d2d90e26834a2a77fac",
            "value": 23
          }
        },
        "d19f89cfb4f041acbd75643af770c51e": {
          "model_module": "@jupyter-widgets/controls",
          "model_module_version": "1.5.0",
          "model_name": "ProgressStyleModel",
          "state": {
            "_model_module": "@jupyter-widgets/controls",
            "_model_module_version": "1.5.0",
            "_model_name": "ProgressStyleModel",
            "_view_count": null,
            "_view_module": "@jupyter-widgets/base",
            "_view_module_version": "1.2.0",
            "_view_name": "StyleView",
            "bar_color": null,
            "description_width": ""
          }
        },
        "d4de144017e34e2e82356814ceb7f6b2": {
          "model_module": "@jupyter-widgets/base",
          "model_module_version": "1.2.0",
          "model_name": "LayoutModel",
          "state": {
            "_model_module": "@jupyter-widgets/base",
            "_model_module_version": "1.2.0",
            "_model_name": "LayoutModel",
            "_view_count": null,
            "_view_module": "@jupyter-widgets/base",
            "_view_module_version": "1.2.0",
            "_view_name": "LayoutView",
            "align_content": null,
            "align_items": null,
            "align_self": null,
            "border": null,
            "bottom": null,
            "display": null,
            "flex": null,
            "flex_flow": null,
            "grid_area": null,
            "grid_auto_columns": null,
            "grid_auto_flow": null,
            "grid_auto_rows": null,
            "grid_column": null,
            "grid_gap": null,
            "grid_row": null,
            "grid_template_areas": null,
            "grid_template_columns": null,
            "grid_template_rows": null,
            "height": null,
            "justify_content": null,
            "justify_items": null,
            "left": null,
            "margin": null,
            "max_height": null,
            "max_width": null,
            "min_height": null,
            "min_width": null,
            "object_fit": null,
            "object_position": null,
            "order": null,
            "overflow": null,
            "overflow_x": null,
            "overflow_y": null,
            "padding": null,
            "right": null,
            "top": null,
            "visibility": null,
            "width": null
          }
        },
        "d99460451e43458ebfc06c37f66a6142": {
          "model_module": "@jupyter-widgets/base",
          "model_module_version": "1.2.0",
          "model_name": "LayoutModel",
          "state": {
            "_model_module": "@jupyter-widgets/base",
            "_model_module_version": "1.2.0",
            "_model_name": "LayoutModel",
            "_view_count": null,
            "_view_module": "@jupyter-widgets/base",
            "_view_module_version": "1.2.0",
            "_view_name": "LayoutView",
            "align_content": null,
            "align_items": null,
            "align_self": null,
            "border": null,
            "bottom": null,
            "display": null,
            "flex": null,
            "flex_flow": null,
            "grid_area": null,
            "grid_auto_columns": null,
            "grid_auto_flow": null,
            "grid_auto_rows": null,
            "grid_column": null,
            "grid_gap": null,
            "grid_row": null,
            "grid_template_areas": null,
            "grid_template_columns": null,
            "grid_template_rows": null,
            "height": null,
            "justify_content": null,
            "justify_items": null,
            "left": null,
            "margin": null,
            "max_height": null,
            "max_width": null,
            "min_height": null,
            "min_width": null,
            "object_fit": null,
            "object_position": null,
            "order": null,
            "overflow": null,
            "overflow_x": null,
            "overflow_y": null,
            "padding": null,
            "right": null,
            "top": null,
            "visibility": null,
            "width": null
          }
        },
        "d9a21b86b7e24020826cfc816ba15f5c": {
          "model_module": "@jupyter-widgets/controls",
          "model_module_version": "1.5.0",
          "model_name": "DescriptionStyleModel",
          "state": {
            "_model_module": "@jupyter-widgets/controls",
            "_model_module_version": "1.5.0",
            "_model_name": "DescriptionStyleModel",
            "_view_count": null,
            "_view_module": "@jupyter-widgets/base",
            "_view_module_version": "1.2.0",
            "_view_name": "StyleView",
            "description_width": ""
          }
        },
        "dcba65e312db446590a831769694766e": {
          "model_module": "@jupyter-widgets/controls",
          "model_module_version": "1.5.0",
          "model_name": "ProgressStyleModel",
          "state": {
            "_model_module": "@jupyter-widgets/controls",
            "_model_module_version": "1.5.0",
            "_model_name": "ProgressStyleModel",
            "_view_count": null,
            "_view_module": "@jupyter-widgets/base",
            "_view_module_version": "1.2.0",
            "_view_name": "StyleView",
            "bar_color": null,
            "description_width": ""
          }
        },
        "df20dd9f94a743e780a6f6e9907c0f34": {
          "model_module": "@jupyter-widgets/controls",
          "model_module_version": "1.5.0",
          "model_name": "DescriptionStyleModel",
          "state": {
            "_model_module": "@jupyter-widgets/controls",
            "_model_module_version": "1.5.0",
            "_model_name": "DescriptionStyleModel",
            "_view_count": null,
            "_view_module": "@jupyter-widgets/base",
            "_view_module_version": "1.2.0",
            "_view_name": "StyleView",
            "description_width": ""
          }
        },
        "ed64f20d4cb8475fa9694dec8eac1a03": {
          "model_module": "@jupyter-widgets/controls",
          "model_module_version": "1.5.0",
          "model_name": "HTMLModel",
          "state": {
            "_dom_classes": [],
            "_model_module": "@jupyter-widgets/controls",
            "_model_module_version": "1.5.0",
            "_model_name": "HTMLModel",
            "_view_count": null,
            "_view_module": "@jupyter-widgets/controls",
            "_view_module_version": "1.5.0",
            "_view_name": "HTMLView",
            "description": "",
            "description_tooltip": null,
            "layout": "IPY_MODEL_bcc9f5e21bbe42fd804a1294aafe0eaf",
            "placeholder": "​",
            "style": "IPY_MODEL_d9a21b86b7e24020826cfc816ba15f5c",
            "value": "Extracting test.tgz: 100%"
          }
        },
        "ef8e0d25886e48cf87d9434533d57fee": {
          "model_module": "@jupyter-widgets/controls",
          "model_module_version": "1.5.0",
          "model_name": "HTMLModel",
          "state": {
            "_dom_classes": [],
            "_model_module": "@jupyter-widgets/controls",
            "_model_module_version": "1.5.0",
            "_model_name": "HTMLModel",
            "_view_count": null,
            "_view_module": "@jupyter-widgets/controls",
            "_view_module_version": "1.5.0",
            "_view_name": "HTMLView",
            "description": "",
            "description_tooltip": null,
            "layout": "IPY_MODEL_26b3b9a338c449c99115a5f819bef083",
            "placeholder": "​",
            "style": "IPY_MODEL_01e65e71f5464600b9fdc9526e1ab5b4",
            "value": "Downloading u2net.tgz: 100%"
          }
        },
        "f3b07a9d99914154b717608a2ea711d1": {
          "model_module": "@jupyter-widgets/controls",
          "model_module_version": "1.5.0",
          "model_name": "FloatProgressModel",
          "state": {
            "_dom_classes": [],
            "_model_module": "@jupyter-widgets/controls",
            "_model_module_version": "1.5.0",
            "_model_name": "FloatProgressModel",
            "_view_count": null,
            "_view_module": "@jupyter-widgets/controls",
            "_view_module_version": "1.5.0",
            "_view_name": "ProgressView",
            "bar_style": "success",
            "description": "",
            "description_tooltip": null,
            "layout": "IPY_MODEL_6c38d8dddd894c62b9572eb6acadc6af",
            "max": 2064452,
            "min": 0,
            "orientation": "horizontal",
            "style": "IPY_MODEL_dcba65e312db446590a831769694766e",
            "value": 2064452
          }
        }
      }
    }
  },
  "nbformat": 4,
  "nbformat_minor": 0
}
